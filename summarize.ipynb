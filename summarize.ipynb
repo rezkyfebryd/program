{
  "nbformat": 4,
  "nbformat_minor": 0,
  "metadata": {
    "colab": {
      "name": "summarize.ipynb",
      "provenance": [],
      "collapsed_sections": []
    },
    "kernelspec": {
      "name": "python3",
      "display_name": "Python 3"
    },
    "language_info": {
      "name": "python"
    }
  },
  "cells": [
    {
      "cell_type": "code",
      "metadata": {
        "colab": {
          "base_uri": "https://localhost:8080/"
        },
        "id": "bJ3tMeh18hM9",
        "outputId": "3d8a3eaf-936b-466b-a529-d389c0b8f6cb"
      },
      "source": [
        "from google.colab import drive\n",
        "drive.mount('/content/drive')"
      ],
      "execution_count": null,
      "outputs": [
        {
          "output_type": "stream",
          "name": "stdout",
          "text": [
            "Mounted at /content/drive\n"
          ]
        }
      ]
    },
    {
      "cell_type": "code",
      "metadata": {
        "colab": {
          "base_uri": "https://localhost:8080/"
        },
        "id": "Jx-P2Rfd-dCq",
        "outputId": "cbad00db-714e-4a1c-da57-8b7d22af868f"
      },
      "source": [
        "import numpy as np\n",
        "import pandas as pd \n",
        "import re\n",
        "from bs4 import BeautifulSoup \n",
        "from keras.preprocessing.text import Tokenizer \n",
        "from nltk import download\n",
        "download('stopwords')\n",
        "from nltk.corpus import stopwords\n",
        "from tensorflow.keras.layers import Input, LSTM, Embedding, Dense, Concatenate, TimeDistributed\n",
        "from tensorflow.keras.models import Model\n",
        "from tensorflow.keras.callbacks import EarlyStopping\n",
        "import warnings\n",
        "from attention import AttentionLayer\n",
        "pd.set_option(\"display.max_colwidth\", 200)\n",
        "warnings.filterwarnings(\"ignore\")"
      ],
      "execution_count": null,
      "outputs": [
        {
          "output_type": "stream",
          "name": "stdout",
          "text": [
            "[nltk_data] Downloading package stopwords to /root/nltk_data...\n",
            "[nltk_data]   Package stopwords is already up-to-date!\n"
          ]
        }
      ]
    },
    {
      "cell_type": "code",
      "metadata": {
        "colab": {
          "base_uri": "https://localhost:8080/",
          "height": 391
        },
        "id": "GNYcFjNH-__M",
        "outputId": "693ac7e3-f7ae-4e06-8f53-8f4043fd49c4"
      },
      "source": [
        "data = pd.read_csv(\"lazadalabel.csv\")\n",
        "print(data.shape)\n",
        "data.head()"
      ],
      "execution_count": null,
      "outputs": [
        {
          "output_type": "stream",
          "name": "stdout",
          "text": [
            "(2009, 5)\n"
          ]
        },
        {
          "output_type": "execute_result",
          "data": {
            "text/html": [
              "<div>\n",
              "<style scoped>\n",
              "    .dataframe tbody tr th:only-of-type {\n",
              "        vertical-align: middle;\n",
              "    }\n",
              "\n",
              "    .dataframe tbody tr th {\n",
              "        vertical-align: top;\n",
              "    }\n",
              "\n",
              "    .dataframe thead th {\n",
              "        text-align: right;\n",
              "    }\n",
              "</style>\n",
              "<table border=\"1\" class=\"dataframe\">\n",
              "  <thead>\n",
              "    <tr style=\"text-align: right;\">\n",
              "      <th></th>\n",
              "      <th>nama</th>\n",
              "      <th>tanggal</th>\n",
              "      <th>ulasan</th>\n",
              "      <th>ringkasan</th>\n",
              "      <th>label</th>\n",
              "    </tr>\n",
              "  </thead>\n",
              "  <tbody>\n",
              "    <tr>\n",
              "      <th>0</th>\n",
              "      <td>Joleen Lamaro</td>\n",
              "      <td>July 8, 2021</td>\n",
              "      <td>Aplikasi ini akan membantu dengan cara yang mudah. Ini membantu orang-orang yang tidak bisa keluar atau jauh di pasar, itu sangat berguna bagi mereka biasanya bagi saya. Pengalaman saya sangat bag...</td>\n",
              "      <td>aplikasi sangat membantu dan banyak potongan harga serta voucher</td>\n",
              "      <td>1</td>\n",
              "    </tr>\n",
              "    <tr>\n",
              "      <th>1</th>\n",
              "      <td>Leah Pejida</td>\n",
              "      <td>July 12, 2021</td>\n",
              "      <td>Platform belanja online ini didesain sempurna untuk kita para pelanggan yang lebih memilih berbelanja online daripada keluar rumah karena pandemi. Fitur yang paling terpuji dari aplikasi ini adala...</td>\n",
              "      <td>platform belanja online yang sempurna dengan pengiriman yang cepat</td>\n",
              "      <td>1</td>\n",
              "    </tr>\n",
              "    <tr>\n",
              "      <th>2</th>\n",
              "      <td>RACHEL RAYMUNDO</td>\n",
              "      <td>July 9, 2021</td>\n",
              "      <td>Suka! memiliki aplikasi ini selama bertahun-tahun sekarang dan itu telah menjadi aplikasi saya ketika pandemi dimulai. Lazada membuatnya sangat nyaman dan terus menjadi lebih baik. Pengiriman cepa...</td>\n",
              "      <td>pengiriman cepat, produk asli dengan harga terjangkau</td>\n",
              "      <td>1</td>\n",
              "    </tr>\n",
              "    <tr>\n",
              "      <th>3</th>\n",
              "      <td>moi dudzki</td>\n",
              "      <td>July 12, 2021</td>\n",
              "      <td>Situs belanja online yang mudah dinavigasi.. pemenang untuk setiap game jelas dan terutama mekanismenya. Saya suka promosi dan diskon yang ditawarkan. Saya pikir satu-satunya kejatuhan adalah goya...</td>\n",
              "      <td>mudah digunakan suka diskon dan promo yang ditawarkan</td>\n",
              "      <td>1</td>\n",
              "    </tr>\n",
              "    <tr>\n",
              "      <th>4</th>\n",
              "      <td>Marjo yang luar biasa</td>\n",
              "      <td>July 12, 2021</td>\n",
              "      <td>Aplikasi ini luar biasa! Ini jelas menunjukkan kebutuhan pelanggan. Ini juga memiliki daftar bersih dari hal-hal yang membuatnya dapat diakses dan mudah digunakan. Lazada juga memberikan tanggapan...</td>\n",
              "      <td>aplikasi yang luar biasa mudah digunakan</td>\n",
              "      <td>1</td>\n",
              "    </tr>\n",
              "  </tbody>\n",
              "</table>\n",
              "</div>"
            ],
            "text/plain": [
              "                    nama  ... label\n",
              "0          Joleen Lamaro  ...     1\n",
              "1            Leah Pejida  ...     1\n",
              "2        RACHEL RAYMUNDO  ...     1\n",
              "3             moi dudzki  ...     1\n",
              "4  Marjo yang luar biasa  ...     1\n",
              "\n",
              "[5 rows x 5 columns]"
            ]
          },
          "metadata": {},
          "execution_count": 10
        }
      ]
    },
    {
      "cell_type": "code",
      "metadata": {
        "colab": {
          "base_uri": "https://localhost:8080/"
        },
        "id": "QcMWci7D_Ncq",
        "outputId": "ceb9083b-448a-4c2d-eba6-f67fa7d933fb"
      },
      "source": [
        "# Check for any nulls values\n",
        "data.isnull().sum()"
      ],
      "execution_count": null,
      "outputs": [
        {
          "output_type": "execute_result",
          "data": {
            "text/plain": [
              "nama         0\n",
              "tanggal      0\n",
              "ulasan       0\n",
              "ringkasan    0\n",
              "label        0\n",
              "dtype: int64"
            ]
          },
          "metadata": {},
          "execution_count": 11
        }
      ]
    },
    {
      "cell_type": "code",
      "metadata": {
        "colab": {
          "base_uri": "https://localhost:8080/"
        },
        "id": "jQaZHhkh_XEY",
        "outputId": "2f41a5b6-1de8-404d-fc6a-1436475fc70d"
      },
      "source": [
        "#CaseFolding\n",
        "data['ulasan'] = data['ulasan'].str.lower()\n",
        "\n",
        "print('Case Folding Result :\\n')\n",
        "print(data['ulasan'].head(5))"
      ],
      "execution_count": null,
      "outputs": [
        {
          "output_type": "stream",
          "name": "stdout",
          "text": [
            "Case Folding Result :\n",
            "\n",
            "0    aplikasi ini akan membantu dengan cara yang mudah. ini membantu orang-orang yang tidak bisa keluar atau jauh di pasar, itu sangat berguna bagi mereka biasanya bagi saya. pengalaman saya sangat bag...\n",
            "1    platform belanja online ini didesain sempurna untuk kita para pelanggan yang lebih memilih berbelanja online daripada keluar rumah karena pandemi. fitur yang paling terpuji dari aplikasi ini adala...\n",
            "2    suka! memiliki aplikasi ini selama bertahun-tahun sekarang dan itu telah menjadi aplikasi saya ketika pandemi dimulai. lazada membuatnya sangat nyaman dan terus menjadi lebih baik. pengiriman cepa...\n",
            "3    situs belanja online yang mudah dinavigasi.. pemenang untuk setiap game jelas dan terutama mekanismenya. saya suka promosi dan diskon yang ditawarkan. saya pikir satu-satunya kejatuhan adalah goya...\n",
            "4    aplikasi ini luar biasa! ini jelas menunjukkan kebutuhan pelanggan. ini juga memiliki daftar bersih dari hal-hal yang membuatnya dapat diakses dan mudah digunakan. lazada juga memberikan tanggapan...\n",
            "Name: ulasan, dtype: object\n"
          ]
        }
      ]
    },
    {
      "cell_type": "code",
      "metadata": {
        "colab": {
          "base_uri": "https://localhost:8080/"
        },
        "id": "UgJdlgzCBMIT",
        "outputId": "5bf5a540-39db-4eeb-c559-6c925ddb3a64"
      },
      "source": [
        "#CaseFolding\n",
        "data['ringkasan'] = data['ringkasan'].str.lower()\n",
        "\n",
        "print('Case Folding Result :\\n')\n",
        "print(data['ringkasan'].head(5))"
      ],
      "execution_count": null,
      "outputs": [
        {
          "output_type": "stream",
          "name": "stdout",
          "text": [
            "Case Folding Result :\n",
            "\n",
            "0      aplikasi sangat membantu dan banyak potongan harga serta voucher\n",
            "1    platform belanja online yang sempurna dengan pengiriman yang cepat\n",
            "2                 pengiriman cepat, produk asli dengan harga terjangkau\n",
            "3                 mudah digunakan suka diskon dan promo yang ditawarkan\n",
            "4                              aplikasi yang luar biasa mudah digunakan\n",
            "Name: ringkasan, dtype: object\n"
          ]
        }
      ]
    },
    {
      "cell_type": "code",
      "metadata": {
        "id": "i27niF1nChgJ"
      },
      "source": [
        "stop_words = set(stopwords.words('indonesian')) \n",
        "def text_cleaner(text):\n",
        "    newString = text.lower()\n",
        "    newString = BeautifulSoup(newString, \"lxml\").text\n",
        "    newString = re.sub(r'\\([^)]*\\)', '', newString)\n",
        "    newString = re.sub('\"','', newString)\n",
        "    newString = re.sub(r\"'s\\b\",\"\",newString)\n",
        "    newString = re.sub(\"[^a-zA-Z]\", \" \", newString) \n",
        "    tokens = [w for w in newString.split() if not w in stop_words]\n",
        "    long_words=[]\n",
        "    for i in tokens:\n",
        "        if len(i)>=3:                  #removing short word\n",
        "            long_words.append(i)   \n",
        "    return (\" \".join(long_words)).strip()\n",
        "\n",
        "cleaned_text = []\n",
        "for t in data['ulasan']:\n",
        "    cleaned_text.append(text_cleaner(t))"
      ],
      "execution_count": null,
      "outputs": []
    },
    {
      "cell_type": "code",
      "metadata": {
        "id": "2NsjD8wLCtLZ"
      },
      "source": [
        "def summary_cleaner(text):\n",
        "    newString = re.sub('\"','', text)   \n",
        "    newString = re.sub(r\"'s\\b\",\"\",newString)\n",
        "    newString = re.sub(\"[^a-zA-Z]\", \" \", newString)\n",
        "    newString = newString.lower()\n",
        "    tokens=newString.split()\n",
        "    newString=''\n",
        "    for i in tokens:\n",
        "        if len(i)>1:                                 \n",
        "            newString=newString+i+' '  \n",
        "    return newString\n",
        "\n",
        "#Call the above function\n",
        "cleaned_summary = []\n",
        "for t in data['ringkasan']:\n",
        "    cleaned_summary.append(summary_cleaner(t))\n",
        "\n",
        "data['cleaned_text']=cleaned_text\n",
        "data['cleaned_summary']=cleaned_summary\n",
        "data['cleaned_summary'].replace('', np.nan, inplace=True)\n",
        "data.dropna(axis=0,inplace=True)"
      ],
      "execution_count": null,
      "outputs": []
    },
    {
      "cell_type": "code",
      "metadata": {
        "colab": {
          "base_uri": "https://localhost:8080/"
        },
        "id": "rfeZgRzJCtNt",
        "outputId": "81c3a016-3a49-4f28-ac85-33f58eb0bf67"
      },
      "source": [
        "# let's inspect some clean reviews\n",
        "for i in range(4):\n",
        "    print(\"Data: \",i+1)\n",
        "    print(cleaned_text[i])\n",
        "    print('-'*80)\n",
        "    print(cleaned_summary[i])\n",
        "    print()"
      ],
      "execution_count": null,
      "outputs": [
        {
          "output_type": "stream",
          "name": "stdout",
          "text": [
            "Data:  1\n",
            "aplikasi membantu mudah membantu orang orang pasar berguna pengalaman bagus toko legit menjual produk berkualitas harga murah bijak menemukan toko penjual bagus penilaian gambar kuncinya salah toko belanja mudah dinavigasi penjualan potongan harga kupon voucher gratis\n",
            "--------------------------------------------------------------------------------\n",
            "aplikasi sangat membantu dan banyak potongan harga serta voucher \n",
            "\n",
            "Data:  2\n",
            "platform belanja online didesain sempurna pelanggan memilih berbelanja online rumah pandemi fitur terpuji aplikasi pengirimannya barang pesan tanggal dikirim pertumbuhan kesuksesan berkelanjutan kesenangan pengalaman terima kasih lazada\n",
            "--------------------------------------------------------------------------------\n",
            "platform belanja online yang sempurna dengan pengiriman yang cepat \n",
            "\n",
            "Data:  3\n",
            "suka memiliki aplikasi bertahun aplikasi pandemi lazada membuatnya nyaman pengiriman cepat produk asli harga terjangkau diskon bantuan app dimiliki orang\n",
            "--------------------------------------------------------------------------------\n",
            "pengiriman cepat produk asli dengan harga terjangkau \n",
            "\n",
            "Data:  4\n",
            "situs belanja online mudah dinavigasi pemenang game mekanismenya suka promosi diskon ditawarkan pikir satunya kejatuhan goyang muncul mengguncangnya voucher diganti dompet lazada voucher transaksi bermanfaat mengizinkannya sumbangan terima kasih\n",
            "--------------------------------------------------------------------------------\n",
            "mudah digunakan suka diskon dan promo yang ditawarkan \n",
            "\n"
          ]
        }
      ]
    },
    {
      "cell_type": "code",
      "metadata": {
        "colab": {
          "base_uri": "https://localhost:8080/",
          "height": 281
        },
        "id": "J6BgIXprEaXj",
        "outputId": "3e0472a6-a9e6-485f-b5c2-742a7d3e9fca"
      },
      "source": [
        "import matplotlib.pyplot as plt\n",
        "text_word_count = []\n",
        "summary_word_count = []\n",
        "\n",
        "# populate the lists with sentence lengths\n",
        "for i in data['cleaned_text']:\n",
        "      text_word_count.append(len(i.split()))\n",
        "\n",
        "for i in data['cleaned_summary']:\n",
        "      summary_word_count.append(len(i.split()))\n",
        "\n",
        "length_df = pd.DataFrame({'text':text_word_count, 'summary':summary_word_count})\n",
        "length_df.hist(bins = 30)\n",
        "plt.show()"
      ],
      "execution_count": null,
      "outputs": [
        {
          "output_type": "display_data",
          "data": {
            "image/png": "[encoded data removed]",
            "text/plain": [
              "<Figure size 432x288 with 2 Axes>"
            ]
          },
          "metadata": {
            "needs_background": "light"
          }
        }
      ]
    },
    {
      "cell_type": "code",
      "metadata": {
        "colab": {
          "base_uri": "https://localhost:8080/"
        },
        "id": "lUP4iRfzFLhJ",
        "outputId": "97281699-d3ad-4594-f376-706cd67df1ad"
      },
      "source": [
        "count = 0\n",
        "for i in cleaned_text:\n",
        "    if(len(i.split())<=50):\n",
        "        count += 1\n",
        "print(count/len(cleaned_text))"
      ],
      "execution_count": null,
      "outputs": [
        {
          "output_type": "stream",
          "name": "stdout",
          "text": [
            "1.0\n"
          ]
        }
      ]
    },
    {
      "cell_type": "code",
      "metadata": {
        "colab": {
          "base_uri": "https://localhost:8080/"
        },
        "id": "w1ajoODXFj8R",
        "outputId": "136e216b-feae-4e29-f473-9cbbdeda0839"
      },
      "source": [
        "count = 0\n",
        "for i in cleaned_summary:\n",
        "    if(len(i.split())<=14):\n",
        "        count += 1\n",
        "print(count/len(cleaned_summary))"
      ],
      "execution_count": null,
      "outputs": [
        {
          "output_type": "stream",
          "name": "stdout",
          "text": [
            "1.0\n"
          ]
        }
      ]
    },
    {
      "cell_type": "code",
      "metadata": {
        "id": "wL0GzI1CGHGl"
      },
      "source": [
        "max_summary_len=15\n",
        "max_text_len=50\n",
        "\n",
        "cleaned_text = np.array(cleaned_text)\n",
        "cleaned_summary = np.array(cleaned_summary)\n",
        "\n",
        "short_text=[]\n",
        "short_summary=[]\n",
        "\n",
        "for i in range(len(cleaned_text)):\n",
        "    \n",
        "    if(len(cleaned_summary[i].split())<=max_summary_len and len(cleaned_text[i].split())<=max_text_len):\n",
        "        short_text.append(cleaned_text[i])\n",
        "        short_summary.append(cleaned_summary[i])\n",
        "\n",
        "df=pd.DataFrame({'text':short_text,'summary':short_summary})\n",
        "df['summary'] = df['summary'].apply(lambda x : 'sostok '+ x + ' eostok')\n",
        "\n",
        "from sklearn.model_selection import train_test_split\n",
        "x_tr,x_val,y_tr,y_val=train_test_split(np.array(df['text']),np.array(df['summary']),test_size=0.1,random_state=0,shuffle=True)"
      ],
      "execution_count": null,
      "outputs": []
    },
    {
      "cell_type": "code",
      "metadata": {
        "colab": {
          "base_uri": "https://localhost:8080/",
          "height": 340
        },
        "id": "iGluulNkGtYi",
        "outputId": "373f114c-a513-4b4e-f08f-3e870d8c3c3d"
      },
      "source": [
        "df.head()"
      ],
      "execution_count": null,
      "outputs": [
        {
          "output_type": "execute_result",
          "data": {
            "text/html": [
              "<div>\n",
              "<style scoped>\n",
              "    .dataframe tbody tr th:only-of-type {\n",
              "        vertical-align: middle;\n",
              "    }\n",
              "\n",
              "    .dataframe tbody tr th {\n",
              "        vertical-align: top;\n",
              "    }\n",
              "\n",
              "    .dataframe thead th {\n",
              "        text-align: right;\n",
              "    }\n",
              "</style>\n",
              "<table border=\"1\" class=\"dataframe\">\n",
              "  <thead>\n",
              "    <tr style=\"text-align: right;\">\n",
              "      <th></th>\n",
              "      <th>text</th>\n",
              "      <th>summary</th>\n",
              "    </tr>\n",
              "  </thead>\n",
              "  <tbody>\n",
              "    <tr>\n",
              "      <th>0</th>\n",
              "      <td>aplikasi membantu mudah membantu orang orang pasar berguna pengalaman bagus toko legit menjual produk berkualitas harga murah bijak menemukan toko penjual bagus penilaian gambar kuncinya salah tok...</td>\n",
              "      <td>sostok aplikasi sangat membantu dan banyak potongan harga serta voucher  eostok</td>\n",
              "    </tr>\n",
              "    <tr>\n",
              "      <th>1</th>\n",
              "      <td>platform belanja online didesain sempurna pelanggan memilih berbelanja online rumah pandemi fitur terpuji aplikasi pengirimannya barang pesan tanggal dikirim pertumbuhan kesuksesan berkelanjutan k...</td>\n",
              "      <td>sostok platform belanja online yang sempurna dengan pengiriman yang cepat  eostok</td>\n",
              "    </tr>\n",
              "    <tr>\n",
              "      <th>2</th>\n",
              "      <td>suka memiliki aplikasi bertahun aplikasi pandemi lazada membuatnya nyaman pengiriman cepat produk asli harga terjangkau diskon bantuan app dimiliki orang</td>\n",
              "      <td>sostok pengiriman cepat produk asli dengan harga terjangkau  eostok</td>\n",
              "    </tr>\n",
              "    <tr>\n",
              "      <th>3</th>\n",
              "      <td>situs belanja online mudah dinavigasi pemenang game mekanismenya suka promosi diskon ditawarkan pikir satunya kejatuhan goyang muncul mengguncangnya voucher diganti dompet lazada voucher transaksi...</td>\n",
              "      <td>sostok mudah digunakan suka diskon dan promo yang ditawarkan  eostok</td>\n",
              "    </tr>\n",
              "    <tr>\n",
              "      <th>4</th>\n",
              "      <td>aplikasi kebutuhan pelanggan memiliki daftar bersih membuatnya diakses mudah lazada tanggapan tindakan layanan pelanggan disarankan keamanan terjamin butuhkan tersedia</td>\n",
              "      <td>sostok aplikasi yang luar biasa mudah digunakan  eostok</td>\n",
              "    </tr>\n",
              "  </tbody>\n",
              "</table>\n",
              "</div>"
            ],
            "text/plain": [
              "                                                                                                                                                                                                      text                                                                            summary\n",
              "0  aplikasi membantu mudah membantu orang orang pasar berguna pengalaman bagus toko legit menjual produk berkualitas harga murah bijak menemukan toko penjual bagus penilaian gambar kuncinya salah tok...    sostok aplikasi sangat membantu dan banyak potongan harga serta voucher  eostok\n",
              "1  platform belanja online didesain sempurna pelanggan memilih berbelanja online rumah pandemi fitur terpuji aplikasi pengirimannya barang pesan tanggal dikirim pertumbuhan kesuksesan berkelanjutan k...  sostok platform belanja online yang sempurna dengan pengiriman yang cepat  eostok\n",
              "2                                                suka memiliki aplikasi bertahun aplikasi pandemi lazada membuatnya nyaman pengiriman cepat produk asli harga terjangkau diskon bantuan app dimiliki orang                sostok pengiriman cepat produk asli dengan harga terjangkau  eostok\n",
              "3  situs belanja online mudah dinavigasi pemenang game mekanismenya suka promosi diskon ditawarkan pikir satunya kejatuhan goyang muncul mengguncangnya voucher diganti dompet lazada voucher transaksi...               sostok mudah digunakan suka diskon dan promo yang ditawarkan  eostok\n",
              "4                                  aplikasi kebutuhan pelanggan memiliki daftar bersih membuatnya diakses mudah lazada tanggapan tindakan layanan pelanggan disarankan keamanan terjamin butuhkan tersedia                            sostok aplikasi yang luar biasa mudah digunakan  eostok"
            ]
          },
          "metadata": {},
          "execution_count": 98
        }
      ]
    },
    {
      "cell_type": "markdown",
      "metadata": {
        "id": "DjNxQefDG0aQ"
      },
      "source": [
        "Tokenizer"
      ]
    },
    {
      "cell_type": "code",
      "metadata": {
        "colab": {
          "base_uri": "https://localhost:8080/"
        },
        "id": "qepcpDKWGxo0",
        "outputId": "cd124ed2-b931-4e3d-97e9-741b2318cd09"
      },
      "source": [
        "from keras.preprocessing.text import Tokenizer \n",
        "from keras.preprocessing.sequence import pad_sequences\n",
        "\n",
        "#prepare a tokenizer for reviews on training data\n",
        "x_tokenizer = Tokenizer() \n",
        "x_tokenizer.fit_on_texts(list(x_tr))\n",
        "\n",
        "thresh=4\n",
        "cnt=0\n",
        "tot_cnt=0\n",
        "freq=0\n",
        "tot_freq=0\n",
        "\n",
        "for key,value in x_tokenizer.word_counts.items():\n",
        "    tot_cnt=tot_cnt+1\n",
        "    tot_freq=tot_freq+value\n",
        "    if(value<thresh):\n",
        "        cnt=cnt+1\n",
        "        freq=freq+value\n",
        "    \n",
        "print(\"% of rare words in vocabulary:\",(cnt/tot_cnt)*100)\n",
        "print(\"Total Coverage of rare words:\",(freq/tot_freq)*100)\n",
        "\n",
        "#prepare a tokenizer for reviews on training data\n",
        "x_tokenizer = Tokenizer(num_words=tot_cnt-cnt) \n",
        "x_tokenizer.fit_on_texts(list(x_tr))\n",
        "\n",
        "#convert text sequences into integer sequences\n",
        "x_tr_seq    =   x_tokenizer.texts_to_sequences(x_tr) \n",
        "x_val_seq   =   x_tokenizer.texts_to_sequences(x_val)\n",
        "\n",
        "#padding zero upto maximum length\n",
        "x_tr    =   pad_sequences(x_tr_seq,  maxlen=max_text_len, padding='post')\n",
        "x_val   =   pad_sequences(x_val_seq, maxlen=max_text_len, padding='post')\n",
        "\n",
        "#size of vocabulary ( +1 for padding token)\n",
        "x_voc   =  x_tokenizer.num_words + 1\n",
        "\n",
        "x_voc"
      ],
      "execution_count": null,
      "outputs": [
        {
          "output_type": "stream",
          "name": "stdout",
          "text": [
            "% of rare words in vocabulary: 70.13527575442248\n",
            "Total Coverage of rare words: 13.000359001974509\n"
          ]
        },
        {
          "output_type": "execute_result",
          "data": {
            "text/plain": [
              "862"
            ]
          },
          "metadata": {},
          "execution_count": 99
        }
      ]
    },
    {
      "cell_type": "code",
      "metadata": {
        "colab": {
          "base_uri": "https://localhost:8080/"
        },
        "id": "46li74OXHLt6",
        "outputId": "32ad81cc-acba-4337-ae98-9a3e80d5e1ec"
      },
      "source": [
        "#prepare a tokenizer for reviews on training data\n",
        "y_tokenizer = Tokenizer()   \n",
        "y_tokenizer.fit_on_texts(list(y_tr))\n",
        "\n",
        "thresh=6\n",
        "cnt=0\n",
        "tot_cnt=0\n",
        "freq=0\n",
        "tot_freq=0\n",
        "\n",
        "for key,value in y_tokenizer.word_counts.items():\n",
        "    tot_cnt=tot_cnt+1\n",
        "    tot_freq=tot_freq+value\n",
        "    if(value<thresh):\n",
        "        cnt=cnt+1\n",
        "        freq=freq+value\n",
        "    \n",
        "print(\"% of rare words in vocabulary:\",(cnt/tot_cnt)*100)\n",
        "print(\"Total Coverage of rare words:\",(freq/tot_freq)*100)\n",
        "\n",
        "#prepare a tokenizer for reviews on training data\n",
        "y_tokenizer = Tokenizer(num_words=tot_cnt-cnt) \n",
        "y_tokenizer.fit_on_texts(list(y_tr))\n",
        "\n",
        "#convert text sequences into integer sequences\n",
        "y_tr_seq    =   y_tokenizer.texts_to_sequences(y_tr) \n",
        "y_val_seq   =   y_tokenizer.texts_to_sequences(y_val) \n",
        "\n",
        "#padding zero upto maximum length\n",
        "y_tr    =   pad_sequences(y_tr_seq, maxlen=max_summary_len, padding='post')\n",
        "y_val   =   pad_sequences(y_val_seq, maxlen=max_summary_len, padding='post')\n",
        "\n",
        "#size of vocabulary\n",
        "y_voc  =   y_tokenizer.num_words +1\n",
        "\n",
        "y_tokenizer.word_counts['sostok'],len(y_tr)"
      ],
      "execution_count": null,
      "outputs": [
        {
          "output_type": "stream",
          "name": "stdout",
          "text": [
            "% of rare words in vocabulary: 76.74632352941177\n",
            "Total Coverage of rare words: 11.93172754825331\n"
          ]
        },
        {
          "output_type": "execute_result",
          "data": {
            "text/plain": [
              "(1808, 1808)"
            ]
          },
          "metadata": {},
          "execution_count": 100
        }
      ]
    },
    {
      "cell_type": "code",
      "metadata": {
        "id": "OtZHc-IpHXEU"
      },
      "source": [
        "ind=[]\n",
        "for i in range(len(y_tr)):\n",
        "    cnt=0\n",
        "    for j in y_tr[i]:\n",
        "        if j!=0:\n",
        "            cnt=cnt+1\n",
        "    if(cnt==2):\n",
        "        ind.append(i)\n",
        "\n",
        "y_tr=np.delete(y_tr,ind, axis=0)\n",
        "x_tr=np.delete(x_tr,ind, axis=0)\n",
        "\n",
        "ind=[]\n",
        "for i in range(len(y_val)):\n",
        "    cnt=0\n",
        "    for j in y_val[i]:\n",
        "        if j!=0:\n",
        "            cnt=cnt+1\n",
        "    if(cnt==2):\n",
        "        ind.append(i)\n",
        "\n",
        "y_val=np.delete(y_val,ind, axis=0)\n",
        "x_val=np.delete(x_val,ind, axis=0)"
      ],
      "execution_count": null,
      "outputs": []
    },
    {
      "cell_type": "code",
      "metadata": {
        "colab": {
          "base_uri": "https://localhost:8080/"
        },
        "id": "hh5-3hPjHeFP",
        "outputId": "5a5d593c-47db-4aca-b843-a4d2bdec7dab"
      },
      "source": [
        "latent_dim = 300\n",
        "embedding_dim = 200\n",
        "\n",
        "# Encoder\n",
        "encoder_inputs = Input(shape=(max_text_len, ))\n",
        "\n",
        "# Embedding layer\n",
        "enc_emb = Embedding(x_voc, embedding_dim,\n",
        "                    trainable=True)(encoder_inputs)\n",
        "\n",
        "# Encoder LSTM 1\n",
        "encoder_lstm1 = LSTM(latent_dim, return_sequences=True,\n",
        "                     return_state=True, dropout=0.4,\n",
        "                     recurrent_dropout=0.4)\n",
        "(encoder_output1, state_h1, state_c1) = encoder_lstm1(enc_emb)\n",
        "\n",
        "# Encoder LSTM 2\n",
        "encoder_lstm2 = LSTM(latent_dim, return_sequences=True,\n",
        "                     return_state=True, dropout=0.4,\n",
        "                     recurrent_dropout=0.4)\n",
        "(encoder_output2, state_h2, state_c2) = encoder_lstm2(encoder_output1)\n",
        "\n",
        "# Encoder LSTM 3\n",
        "encoder_lstm3 = LSTM(latent_dim, return_state=True,\n",
        "                     return_sequences=True, dropout=0.4,\n",
        "                     recurrent_dropout=0.4)\n",
        "(encoder_outputs, state_h, state_c) = encoder_lstm3(encoder_output2)\n",
        "\n",
        "# Set up the decoder, using encoder_states as the initial state\n",
        "decoder_inputs = Input(shape=(None, ))\n",
        "\n",
        "# Embedding layer\n",
        "dec_emb_layer = Embedding(y_voc, embedding_dim, trainable=True)\n",
        "dec_emb = dec_emb_layer(decoder_inputs)\n",
        "\n",
        "# Decoder LSTM\n",
        "decoder_lstm = LSTM(latent_dim, return_sequences=True,\n",
        "                    return_state=True, dropout=0.4,\n",
        "                    recurrent_dropout=0.2)\n",
        "(decoder_outputs, decoder_fwd_state, decoder_back_state) = \\\n",
        "    decoder_lstm(dec_emb, initial_state=[state_h, state_c])\n",
        "\n",
        "# Dense layer\n",
        "decoder_dense = TimeDistributed(Dense(y_voc, activation='softmax'))\n",
        "decoder_outputs = decoder_dense(decoder_outputs)\n",
        "\n",
        "# Define the model\n",
        "model = Model([encoder_inputs, decoder_inputs], decoder_outputs)\n",
        "\n",
        "model.summary()"
      ],
      "execution_count": null,
      "outputs": [
        {
          "output_type": "stream",
          "name": "stdout",
          "text": [
            "Model: \"model_5\"\n",
            "__________________________________________________________________________________________________\n",
            "Layer (type)                    Output Shape         Param #     Connected to                     \n",
            "==================================================================================================\n",
            "input_10 (InputLayer)           [(None, 50)]         0                                            \n",
            "__________________________________________________________________________________________________\n",
            "embedding_6 (Embedding)         (None, 50, 200)      172400      input_10[0][0]                   \n",
            "__________________________________________________________________________________________________\n",
            "lstm_12 (LSTM)                  [(None, 50, 300), (N 601200      embedding_6[0][0]                \n",
            "__________________________________________________________________________________________________\n",
            "input_11 (InputLayer)           [(None, None)]       0                                            \n",
            "__________________________________________________________________________________________________\n",
            "lstm_13 (LSTM)                  [(None, 50, 300), (N 721200      lstm_12[0][0]                    \n",
            "__________________________________________________________________________________________________\n",
            "embedding_7 (Embedding)         (None, None, 200)    50800       input_11[0][0]                   \n",
            "__________________________________________________________________________________________________\n",
            "lstm_14 (LSTM)                  [(None, 50, 300), (N 721200      lstm_13[0][0]                    \n",
            "__________________________________________________________________________________________________\n",
            "lstm_15 (LSTM)                  [(None, None, 300),  601200      embedding_7[0][0]                \n",
            "                                                                 lstm_14[0][1]                    \n",
            "                                                                 lstm_14[0][2]                    \n",
            "__________________________________________________________________________________________________\n",
            "time_distributed_3 (TimeDistrib (None, None, 254)    76454       lstm_15[0][0]                    \n",
            "==================================================================================================\n",
            "Total params: 2,944,454\n",
            "Trainable params: 2,944,454\n",
            "Non-trainable params: 0\n",
            "__________________________________________________________________________________________________\n"
          ]
        }
      ]
    },
    {
      "cell_type": "code",
      "metadata": {
        "id": "ZS9mZFTgIsfB"
      },
      "source": [
        "model.compile(optimizer='rmsprop', loss='sparse_categorical_crossentropy')\n",
        "\n",
        "es = EarlyStopping(monitor='val_loss', mode='min', verbose=1, patience=2)"
      ],
      "execution_count": null,
      "outputs": []
    },
    {
      "cell_type": "code",
      "metadata": {
        "colab": {
          "base_uri": "https://localhost:8080/"
        },
        "id": "CyU-layLLHtQ",
        "outputId": "2cbfb63c-8ccf-4d1d-a143-b4e2142bdf76"
      },
      "source": [
        "history = model.fit(\n",
        "    [x_tr, y_tr[:, :-1]],\n",
        "    y_tr.reshape(y_tr.shape[0], y_tr.shape[1], 1)[:, 1:],\n",
        "    epochs=50,\n",
        "    callbacks=[es],\n",
        "    batch_size=128,\n",
        "    validation_data=([x_val, y_val[:, :-1]],\n",
        "                     y_val.reshape(y_val.shape[0], y_val.shape[1], 1)[:\n",
        "                     , 1:]),\n",
        "    )"
      ],
      "execution_count": null,
      "outputs": [
        {
          "output_type": "stream",
          "name": "stdout",
          "text": [
            "Train on 1803 samples, validate on 201 samples\n",
            "Epoch 1/50\n",
            "1803/1803 [==============================] - 67s 37ms/sample - loss: 2.5219 - val_loss: 1.8138\n",
            "Epoch 2/50\n",
            "1803/1803 [==============================] - 56s 31ms/sample - loss: 1.7243 - val_loss: 1.7199\n",
            "Epoch 3/50\n",
            "1803/1803 [==============================] - 55s 31ms/sample - loss: 1.6314 - val_loss: 1.6744\n",
            "Epoch 4/50\n",
            "1803/1803 [==============================] - 55s 31ms/sample - loss: 1.5580 - val_loss: 1.6070\n",
            "Epoch 5/50\n",
            "1803/1803 [==============================] - 55s 31ms/sample - loss: 1.5166 - val_loss: 1.5604\n",
            "Epoch 6/50\n",
            "1803/1803 [==============================] - 55s 30ms/sample - loss: 1.4853 - val_loss: 1.5387\n",
            "Epoch 7/50\n",
            "1803/1803 [==============================] - 55s 30ms/sample - loss: 1.4562 - val_loss: 1.5227\n",
            "Epoch 8/50\n",
            "1803/1803 [==============================] - 55s 30ms/sample - loss: 1.4267 - val_loss: 1.4992\n",
            "Epoch 9/50\n",
            "1803/1803 [==============================] - 55s 30ms/sample - loss: 1.4011 - val_loss: 1.4783\n",
            "Epoch 10/50\n",
            "1803/1803 [==============================] - 55s 30ms/sample - loss: 1.3784 - val_loss: 1.4517\n",
            "Epoch 11/50\n",
            "1803/1803 [==============================] - 55s 30ms/sample - loss: 1.3531 - val_loss: 1.4439\n",
            "Epoch 12/50\n",
            "1803/1803 [==============================] - 55s 30ms/sample - loss: 1.3384 - val_loss: 1.4320\n",
            "Epoch 13/50\n",
            "1803/1803 [==============================] - 55s 30ms/sample - loss: 1.3150 - val_loss: 1.4065\n",
            "Epoch 14/50\n",
            "1803/1803 [==============================] - 55s 30ms/sample - loss: 1.2880 - val_loss: 1.4047\n",
            "Epoch 15/50\n",
            "1803/1803 [==============================] - 55s 30ms/sample - loss: 1.2639 - val_loss: 1.4024\n",
            "Epoch 16/50\n",
            "1803/1803 [==============================] - 55s 31ms/sample - loss: 1.2378 - val_loss: 1.3492\n",
            "Epoch 17/50\n",
            "1803/1803 [==============================] - 55s 30ms/sample - loss: 1.2153 - val_loss: 1.3367\n",
            "Epoch 18/50\n",
            "1803/1803 [==============================] - 55s 30ms/sample - loss: 1.1926 - val_loss: 1.3208\n",
            "Epoch 19/50\n",
            "1803/1803 [==============================] - 55s 30ms/sample - loss: 1.1707 - val_loss: 1.2994\n",
            "Epoch 20/50\n",
            "1803/1803 [==============================] - 55s 30ms/sample - loss: 1.1509 - val_loss: 1.3007\n",
            "Epoch 21/50\n",
            "1803/1803 [==============================] - 55s 30ms/sample - loss: 1.1320 - val_loss: 1.2900\n",
            "Epoch 22/50\n",
            "1803/1803 [==============================] - 55s 30ms/sample - loss: 1.1167 - val_loss: 1.3078\n",
            "Epoch 23/50\n",
            "1803/1803 [==============================] - 55s 30ms/sample - loss: 1.1010 - val_loss: 1.2884\n",
            "Epoch 24/50\n",
            "1803/1803 [==============================] - 55s 30ms/sample - loss: 1.0861 - val_loss: 1.2586\n",
            "Epoch 25/50\n",
            "1803/1803 [==============================] - 55s 30ms/sample - loss: 1.0705 - val_loss: 1.2966\n",
            "Epoch 26/50\n",
            "1803/1803 [==============================] - 55s 30ms/sample - loss: 1.0535 - val_loss: 1.2632\n",
            "Epoch 00026: early stopping\n"
          ]
        }
      ]
    },
    {
      "cell_type": "code",
      "metadata": {
        "colab": {
          "base_uri": "https://localhost:8080/",
          "height": 265
        },
        "id": "iO8A-2kZPwpV",
        "outputId": "529261d6-b290-4239-ebdb-7a43d2ebde79"
      },
      "source": [
        "from matplotlib import pyplot\n",
        "\n",
        "pyplot.plot(history.history['loss'], label='train')\n",
        "pyplot.plot(history.history['val_loss'], label='test')\n",
        "pyplot.legend()\n",
        "pyplot.show()"
      ],
      "execution_count": null,
      "outputs": [
        {
          "output_type": "display_data",
          "data": {
            "image/png": "[encoded data removed]",
            "text/plain": [
              "<Figure size 432x288 with 1 Axes>"
            ]
          },
          "metadata": {
            "needs_background": "light"
          }
        }
      ]
    },
    {
      "cell_type": "code",
      "metadata": {
        "id": "SeSymUPYQdrR"
      },
      "source": [
        "reverse_target_word_index = y_tokenizer.index_word\n",
        "reverse_source_word_index = x_tokenizer.index_word\n",
        "target_word_index = y_tokenizer.word_index"
      ],
      "execution_count": null,
      "outputs": []
    },
    {
      "cell_type": "code",
      "metadata": {
        "id": "s6mIiMxfQe53"
      },
      "source": [
        "# Inference Models\n",
        "\n",
        "# Encode the input sequence to get the feature vector\n",
        "encoder_model = Model(inputs=encoder_inputs, outputs=[encoder_outputs,\n",
        "                      state_h, state_c])\n",
        "\n",
        "# Decoder setup\n",
        "\n",
        "# Below tensors will hold the states of the previous time step\n",
        "decoder_state_input_h = Input(shape=(latent_dim, ))\n",
        "decoder_state_input_c = Input(shape=(latent_dim, ))\n",
        "decoder_hidden_state_input = Input(shape=(max_text_len, latent_dim))\n",
        "\n",
        "# Get the embeddings of the decoder sequence\n",
        "dec_emb2 = dec_emb_layer(decoder_inputs)\n",
        "\n",
        "# To predict the next word in the sequence, set the initial states to the states from the previous time step\n",
        "(decoder_outputs2, state_h2, state_c2) = decoder_lstm(dec_emb2,\n",
        "        initial_state=[decoder_state_input_h, decoder_state_input_c])\n",
        "\n",
        "# A dense softmax layer to generate prob dist. over the target vocabulary\n",
        "decoder_outputs2 = decoder_dense(decoder_outputs2)\n",
        "\n",
        "# Final decoder model\n",
        "decoder_model = Model([decoder_inputs] + [decoder_hidden_state_input,\n",
        "                      decoder_state_input_h, decoder_state_input_c],\n",
        "                      [decoder_outputs2] + [state_h2, state_c2])"
      ],
      "execution_count": null,
      "outputs": []
    },
    {
      "cell_type": "code",
      "metadata": {
        "id": "jbSYlXfXQnx1"
      },
      "source": [
        "def decode_sequence(input_seq):\n",
        "\n",
        "    # Encode the input as state vectors.\n",
        "    (e_out, e_h, e_c) = encoder_model.predict(input_seq)\n",
        "\n",
        "    # Generate empty target sequence of length 1\n",
        "    target_seq = np.zeros((1, 1))\n",
        "\n",
        "    # Populate the first word of target sequence with the start word.\n",
        "    target_seq[0, 0] = target_word_index['sostok']\n",
        "\n",
        "    stop_condition = False\n",
        "    decoded_sentence = ''\n",
        "\n",
        "    while not stop_condition:\n",
        "        (output_tokens, h, c) = decoder_model.predict([target_seq]\n",
        "                + [e_out, e_h, e_c])\n",
        "\n",
        "        # Sample a token\n",
        "        sampled_token_index = np.argmax(output_tokens[0, -1, :])\n",
        "        sampled_token = reverse_target_word_index[sampled_token_index]\n",
        "\n",
        "        if sampled_token != 'eostok':\n",
        "            decoded_sentence += ' ' + sampled_token\n",
        "\n",
        "        # Exit condition: either hit max length or find the stop word.\n",
        "        if sampled_token == 'eostok' or len(decoded_sentence.split()) \\\n",
        "            >= max_summary_len - 1:\n",
        "            stop_condition = True\n",
        "\n",
        "        # Update the target sequence (of length 1)\n",
        "        target_seq = np.zeros((1, 1))\n",
        "        target_seq[0, 0] = sampled_token_index\n",
        "\n",
        "        # Update internal states\n",
        "        (e_h, e_c) = (h, c)\n",
        "\n",
        "    return decoded_sentence"
      ],
      "execution_count": null,
      "outputs": []
    },
    {
      "cell_type": "code",
      "metadata": {
        "id": "sIgJX28KQyH_"
      },
      "source": [
        "# To convert sequence to summary\n",
        "def seq2summary(input_seq):\n",
        "    newString = ''\n",
        "    for i in input_seq:\n",
        "        if i != 0 and i != target_word_index['sostok'] and i \\\n",
        "            != target_word_index['eostok']:\n",
        "            newString = newString + reverse_target_word_index[i] + ' '\n",
        "\n",
        "    return newString\n",
        "\n",
        "\n",
        "# To convert sequence to text\n",
        "def seq2text(input_seq):\n",
        "    newString = ''\n",
        "    for i in input_seq:\n",
        "        if i != 0:\n",
        "            newString = newString + reverse_source_word_index[i] + ' '\n",
        "\n",
        "    return newString"
      ],
      "execution_count": null,
      "outputs": []
    },
    {
      "cell_type": "code",
      "metadata": {
        "colab": {
          "base_uri": "https://localhost:8080/"
        },
        "id": "UpyV8gx5Q4WK",
        "outputId": "98a9d723-3abc-446a-a57f-fcfd67b3beac"
      },
      "source": [
        "for i in range(0, 30):\n",
        "    print ('Review:', seq2text(x_tr[i]))\n",
        "    print ('Summary:', seq2summary(y_tr[i]))\n",
        "    print ('\\n')"
      ],
      "execution_count": null,
      "outputs": [
        {
          "output_type": "stream",
          "name": "stdout",
          "text": [
            "Review: belanja online terbaik aplikasi memiliki bug macet berharap pengembang tim aplikasi platform belanja versi kinerja bagus aplikasi memiliki gelap \n",
            "Summary: memiliki bug dan beberapa macet \n",
            "\n",
            "\n",
            "Review: platform online berguna pilihan \n",
            "Summary: berguna banyak pilihan \n",
            "\n",
            "\n",
            "Review: aplikasi bagus salah pesanan keluhan lazada terbatas \n",
            "Summary: lazada terbatas \n",
            "\n",
            "\n",
            "Review: produk mahal toko aplikasi bagus \n",
            "Summary: produk lebih mahal \n",
            "\n",
            "\n",
            "Review: mudah lag menghabiskan baterai ponsel \n",
            "Summary: dan banyak baterai \n",
            "\n",
            "\n",
            "Review: foto foto pembelian aplikasi lambat \n",
            "Summary: foto pembelian tidak dapat \n",
            "\n",
            "\n",
            "Review: menemukan butuhkan terima kasih \n",
            "Summary: menemukan semua yang \n",
            "\n",
            "\n",
            "Review: mudah dibandingkan peta sulit \n",
            "Summary: mudah tapi sulit \n",
            "\n",
            "\n",
            "Review: senang lazada sesuai kebutuhan klien \n",
            "Summary: sesuai dengan kebutuhan \n",
            "\n",
            "\n",
            "Review: mengubah alamat default pembayaran alamat pekerjaan uang dikirim alamat terbaru \n",
            "Summary: tidak dapat mengubah alamat \n",
            "\n",
            "\n",
            "Review: pengiriman cepat shopee app membantu menyenangkan menilai penjual menerima pesanan lancar \n",
            "Summary: pengiriman cepat \n",
            "\n",
            "\n",
            "Review: aplikasi dipilih sesuai kebutuhan pesanan mudah bagus bintang menemukan toko sah pembeli memeriksa peringkat toko aplikasi toko direkomendasikan cod opsi pembayaran terbaik \n",
            "Summary: aplikasi yang untuk sesuai kebutuhan \n",
            "\n",
            "\n",
            "Review: aplikasi membantu nyaman bintang biaya pengiriman mahal aplikasi nyaman menggunakannya mudah voucher menyukainya \n",
            "Summary: nyaman dan mudah digunakan \n",
            "\n",
            "\n",
            "Review: aplikasi puas akomodatif \n",
            "Summary: sangat akomodatif \n",
            "\n",
            "\n",
            "Review: suka mudah berbelanja kurir akomodatif \n",
            "Summary: mudah berbelanja dan kurir sangat akomodatif \n",
            "\n",
            "\n",
            "Review: pesan obrolan streaming langsung berfungsi pesan hilang streaming rumah mengirim komentar pikir aplikasi memblokir pesan pesan membalas memfilter pesan masuk memeriksa pesan dikirim produk \n",
            "Summary: pesan tidak berfungsi \n",
            "\n",
            "\n",
            "Review: nyaman berbelanja berbelanja keluarga rumah situs menerima kartu pilihan pembayaran mudah membayar \n",
            "Summary: nyaman dan banyak pilihan pembayaran \n",
            "\n",
            "\n",
            "Review: berguna pandemi toko dipilih harganya \n",
            "Summary: banyak pilihan toko \n",
            "\n",
            "\n",
            "Review: diandalkan senang aplikasi \n",
            "Summary: dapat diandalkan \n",
            "\n",
            "\n",
            "Review: bagus terkadang penjual barang desain salah \n",
            "Summary: penjual memberikan barang yang salah \n",
            "\n",
            "\n",
            "Review: pembelian lihat produk berjalan menerimanya pembayaran mudah pembelian terima kasih \n",
            "Summary: pembayaran lama \n",
            "\n",
            "\n",
            "Review: sistem pencarian buruk mencari harga rendah barang murah harga pencarian mencari kunci sistem pencarian khusus menampilkan toko barang mencoba menemukan dicari pelanggan alasan halaman lihat produk toko hilang toko pelanggan \n",
            "Summary: sistem pencarian dan ui buruk \n",
            "\n",
            "\n",
            "Review: antarmuka membingungkan suka penawaran shoppee oke penjual tersedia \n",
            "Summary: antarmuka membingungkan \n",
            "\n",
            "\n",
            "Review: cepat berharap penjual membatalkan pesanan pesanan terkirim \n",
            "Summary: sangat cepat \n",
            "\n",
            "\n",
            "Review: memperbaiki fungsi pencarian hasil produk habis mencari \n",
            "Summary: perbaiki fungsi pencarian \n",
            "\n",
            "\n",
            "Review: produk bagus pengiriman cepat \n",
            "Summary: pengiriman cepat \n",
            "\n",
            "\n",
            "Review: berantakan pembeli \n",
            "Summary: berantakan \n",
            "\n",
            "\n",
            "Review: terkadang frustrasi barang salah dikirim pemasok senang layanan pengiriman menyenangkan pelanggan \n",
            "Summary: layanan pengiriman sangat \n",
            "\n",
            "\n",
            "Review: tingkatkan antarmuka aplikasi ramah pengguna \n",
            "Summary: tidak ramah pengguna \n",
            "\n",
            "\n",
            "Review: mudah berbelanja pesan kemarin dikirim kurir lazada cepat barangnya bagus barang terima kasih lazada butuhkan aplikasi lazada terima kasih \n",
            "Summary: kurir cepat dan barang bagus \n",
            "\n",
            "\n"
          ]
        }
      ]
    }
  ]
}