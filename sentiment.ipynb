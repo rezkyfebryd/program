{
  "nbformat": 4,
  "nbformat_minor": 0,
  "metadata": {
    "colab": {
      "name": "modelsentiment.ipynb",
      "provenance": [],
      "collapsed_sections": []
    },
    "kernelspec": {
      "display_name": "Python 3",
      "name": "python3"
    },
    "language_info": {
      "name": "python"
    }
  },
  "cells": [
    {
      "cell_type": "code",
      "metadata": {
        "colab": {
          "base_uri": "https://localhost:8080/"
        },
        "id": "-tkLspxdZmII",
        "outputId": "4de9540c-7aa1-4391-f3e3-a726a4ecb6a5"
      },
      "source": [
        "from google.colab import drive\n",
        "drive.mount('/content/drive')"
      ],
      "execution_count": null,
      "outputs": [
        {
          "output_type": "stream",
          "name": "stdout",
          "text": [
            "Mounted at /content/drive\n"
          ]
        }
      ]
    },
    {
      "cell_type": "code",
      "metadata": {
        "id": "AGHgNyiLCI38"
      },
      "source": [
        "import tensorflow"
      ],
      "execution_count": null,
      "outputs": []
    },
    {
      "cell_type": "code",
      "metadata": {
        "colab": {
          "base_uri": "https://localhost:8080/"
        },
        "id": "U-flYfdg5jd5",
        "outputId": "05e25454-790c-4742-e836-719f248adc8a"
      },
      "source": [
        "import pandas as pd\n",
        "import numpy as np\n",
        "import re\n",
        "import nltk\n",
        "from nltk.corpus import stopwords\n",
        "\n",
        "from numpy import array\n",
        "from nltk import download\n",
        "download('stopwords')\n",
        "from nltk.corpus import stopwords\n",
        "from bs4 import BeautifulSoup \n",
        "from keras.preprocessing.text import one_hot\n",
        "from keras.preprocessing.sequence import pad_sequences\n",
        "from keras.models import Sequential\n",
        "from tensorflow.keras.layers import Input, LSTM\n",
        "from keras.layers.core import Activation, Dropout, Dense\n",
        "from tensorflow.keras.callbacks import ModelCheckpoint\n",
        "from keras.layers import Flatten\n",
        "from keras.layers import MaxPooling1D\n",
        "from keras.layers import Conv1D\n",
        "from keras.layers import GlobalMaxPooling1D\n",
        "from keras.layers.embeddings import Embedding\n",
        "from sklearn.model_selection import train_test_split\n",
        "from tensorflow.keras.callbacks import EarlyStopping\n",
        "from keras.preprocessing.text import Tokenizer"
      ],
      "execution_count": null,
      "outputs": [
        {
          "output_type": "stream",
          "name": "stdout",
          "text": [
            "[nltk_data] Downloading package stopwords to /root/nltk_data...\n",
            "[nltk_data]   Unzipping corpora/stopwords.zip.\n"
          ]
        }
      ]
    },
    {
      "cell_type": "code",
      "metadata": {
        "colab": {
          "base_uri": "https://localhost:8080/",
          "height": 224
        },
        "id": "-tmKqAlV5rUg",
        "outputId": "2c182eba-365d-4a75-daf0-2a0b6ceb6fd0"
      },
      "source": [
        "data = pd.read_csv(\"/content/drive/MyDrive/sentiment/datatraining.csv\")\n",
        "print(data.shape)\n",
        "data.head()"
      ],
      "execution_count": null,
      "outputs": [
        {
          "output_type": "stream",
          "name": "stdout",
          "text": [
            "(2904, 4)\n"
          ]
        },
        {
          "output_type": "execute_result",
          "data": {
            "text/html": [
              "\n",
              "  <div id=\"df-6ce28e0e-ce54-478c-8f1a-0c7d1b7199be\">\n",
              "    <div class=\"colab-df-container\">\n",
              "      <div>\n",
              "<style scoped>\n",
              "    .dataframe tbody tr th:only-of-type {\n",
              "        vertical-align: middle;\n",
              "    }\n",
              "\n",
              "    .dataframe tbody tr th {\n",
              "        vertical-align: top;\n",
              "    }\n",
              "\n",
              "    .dataframe thead th {\n",
              "        text-align: right;\n",
              "    }\n",
              "</style>\n",
              "<table border=\"1\" class=\"dataframe\">\n",
              "  <thead>\n",
              "    <tr style=\"text-align: right;\">\n",
              "      <th></th>\n",
              "      <th>nama</th>\n",
              "      <th>tanggal</th>\n",
              "      <th>ulasan</th>\n",
              "      <th>label</th>\n",
              "    </tr>\n",
              "  </thead>\n",
              "  <tbody>\n",
              "    <tr>\n",
              "      <th>0</th>\n",
              "      <td>Joleen Lamaro</td>\n",
              "      <td>2021-07-08</td>\n",
              "      <td>Aplikasi ini akan membantu dengan cara yang mu...</td>\n",
              "      <td>1</td>\n",
              "    </tr>\n",
              "    <tr>\n",
              "      <th>1</th>\n",
              "      <td>Leah Pejida</td>\n",
              "      <td>2021-07-12</td>\n",
              "      <td>Platform belanja online ini didesain sempurna ...</td>\n",
              "      <td>1</td>\n",
              "    </tr>\n",
              "    <tr>\n",
              "      <th>2</th>\n",
              "      <td>RACHEL RAYMUNDO</td>\n",
              "      <td>2021-07-09</td>\n",
              "      <td>Suka! memiliki aplikasi ini selama bertahun-ta...</td>\n",
              "      <td>1</td>\n",
              "    </tr>\n",
              "    <tr>\n",
              "      <th>3</th>\n",
              "      <td>moi dudzki</td>\n",
              "      <td>2021-07-12</td>\n",
              "      <td>Situs belanja online yang mudah dinavigasi.. p...</td>\n",
              "      <td>1</td>\n",
              "    </tr>\n",
              "    <tr>\n",
              "      <th>4</th>\n",
              "      <td>Marjo yang luar biasa</td>\n",
              "      <td>2021-07-12</td>\n",
              "      <td>Aplikasi ini luar biasa! Ini jelas menunjukkan...</td>\n",
              "      <td>1</td>\n",
              "    </tr>\n",
              "  </tbody>\n",
              "</table>\n",
              "</div>\n",
              "      <button class=\"colab-df-convert\" onclick=\"convertToInteractive('df-6ce28e0e-ce54-478c-8f1a-0c7d1b7199be')\"\n",
              "              title=\"Convert this dataframe to an interactive table.\"\n",
              "              style=\"display:none;\">\n",
              "        \n",
              "  <svg xmlns=\"http://www.w3.org/2000/svg\" height=\"24px\"viewBox=\"0 0 24 24\"\n",
              "       width=\"24px\">\n",
              "    <path d=\"M0 0h24v24H0V0z\" fill=\"none\"/>\n",
              "    <path d=\"M18.56 5.44l.94 2.06.94-2.06 2.06-.94-2.06-.94-.94-2.06-.94 2.06-2.06.94zm-11 1L8.5 8.5l.94-2.06 2.06-.94-2.06-.94L8.5 2.5l-.94 2.06-2.06.94zm10 10l.94 2.06.94-2.06 2.06-.94-2.06-.94-.94-2.06-.94 2.06-2.06.94z\"/><path d=\"M17.41 7.96l-1.37-1.37c-.4-.4-.92-.59-1.43-.59-.52 0-1.04.2-1.43.59L10.3 9.45l-7.72 7.72c-.78.78-.78 2.05 0 2.83L4 21.41c.39.39.9.59 1.41.59.51 0 1.02-.2 1.41-.59l7.78-7.78 2.81-2.81c.8-.78.8-2.07 0-2.86zM5.41 20L4 18.59l7.72-7.72 1.47 1.35L5.41 20z\"/>\n",
              "  </svg>\n",
              "      </button>\n",
              "      \n",
              "  <style>\n",
              "    .colab-df-container {\n",
              "      display:flex;\n",
              "      flex-wrap:wrap;\n",
              "      gap: 12px;\n",
              "    }\n",
              "\n",
              "    .colab-df-convert {\n",
              "      background-color: #E8F0FE;\n",
              "      border: none;\n",
              "      border-radius: 50%;\n",
              "      cursor: pointer;\n",
              "      display: none;\n",
              "      fill: #1967D2;\n",
              "      height: 32px;\n",
              "      padding: 0 0 0 0;\n",
              "      width: 32px;\n",
              "    }\n",
              "\n",
              "    .colab-df-convert:hover {\n",
              "      background-color: #E2EBFA;\n",
              "      box-shadow: 0px 1px 2px rgba(60, 64, 67, 0.3), 0px 1px 3px 1px rgba(60, 64, 67, 0.15);\n",
              "      fill: #174EA6;\n",
              "    }\n",
              "\n",
              "    [theme=dark] .colab-df-convert {\n",
              "      background-color: #3B4455;\n",
              "      fill: #D2E3FC;\n",
              "    }\n",
              "\n",
              "    [theme=dark] .colab-df-convert:hover {\n",
              "      background-color: #434B5C;\n",
              "      box-shadow: 0px 1px 3px 1px rgba(0, 0, 0, 0.15);\n",
              "      filter: drop-shadow(0px 1px 2px rgba(0, 0, 0, 0.3));\n",
              "      fill: #FFFFFF;\n",
              "    }\n",
              "  </style>\n",
              "\n",
              "      <script>\n",
              "        const buttonEl =\n",
              "          document.querySelector('#df-6ce28e0e-ce54-478c-8f1a-0c7d1b7199be button.colab-df-convert');\n",
              "        buttonEl.style.display =\n",
              "          google.colab.kernel.accessAllowed ? 'block' : 'none';\n",
              "\n",
              "        async function convertToInteractive(key) {\n",
              "          const element = document.querySelector('#df-6ce28e0e-ce54-478c-8f1a-0c7d1b7199be');\n",
              "          const dataTable =\n",
              "            await google.colab.kernel.invokeFunction('convertToInteractive',\n",
              "                                                     [key], {});\n",
              "          if (!dataTable) return;\n",
              "\n",
              "          const docLinkHtml = 'Like what you see? Visit the ' +\n",
              "            '<a target=\"_blank\" href=https://colab.research.google.com/notebooks/data_table.ipynb>data table notebook</a>'\n",
              "            + ' to learn more about interactive tables.';\n",
              "          element.innerHTML = '';\n",
              "          dataTable['output_type'] = 'display_data';\n",
              "          await google.colab.output.renderOutput(dataTable, element);\n",
              "          const docLink = document.createElement('div');\n",
              "          docLink.innerHTML = docLinkHtml;\n",
              "          element.appendChild(docLink);\n",
              "        }\n",
              "      </script>\n",
              "    </div>\n",
              "  </div>\n",
              "  "
            ],
            "text/plain": [
              "                    nama  ... label\n",
              "0          Joleen Lamaro  ...     1\n",
              "1            Leah Pejida  ...     1\n",
              "2        RACHEL RAYMUNDO  ...     1\n",
              "3             moi dudzki  ...     1\n",
              "4  Marjo yang luar biasa  ...     1\n",
              "\n",
              "[5 rows x 4 columns]"
            ]
          },
          "metadata": {},
          "execution_count": 3
        }
      ]
    },
    {
      "cell_type": "code",
      "metadata": {
        "colab": {
          "base_uri": "https://localhost:8080/"
        },
        "id": "Km2nzlt459a7",
        "outputId": "0db1e12a-a5fb-4e11-c9d5-d542e58d3dc0"
      },
      "source": [
        "# Check for any nulls values\n",
        "data.isnull().sum()"
      ],
      "execution_count": null,
      "outputs": [
        {
          "output_type": "execute_result",
          "data": {
            "text/plain": [
              "nama       0\n",
              "tanggal    0\n",
              "ulasan     0\n",
              "label      0\n",
              "dtype: int64"
            ]
          },
          "metadata": {},
          "execution_count": 4
        }
      ]
    },
    {
      "cell_type": "code",
      "metadata": {
        "id": "rc1_WBO-64EQ"
      },
      "source": [
        "stop_words = set(stopwords.words('indonesian')) \n",
        "def text_cleaner(text):\n",
        "    newString = text.lower()\n",
        "    newString = BeautifulSoup(newString, \"lxml\").text\n",
        "    newString = re.sub(r'\\([^)]*\\)', '', newString)\n",
        "    newString = re.sub('\"','', newString)\n",
        "    newString = re.sub(r\"'s\\b\",\"\",newString)\n",
        "    newString = re.sub(\"[^a-zA-Z]\", \" \", newString) \n",
        "    tokens = [w for w in newString.split() if not w in stop_words]\n",
        "    long_words=[]\n",
        "    for i in tokens:\n",
        "        if len(i)>=3:                  #removing short word\n",
        "            long_words.append(i)   \n",
        "    return (\" \".join(long_words)).strip()\n",
        "\n",
        "cleaned_text = []\n",
        "for t in data['ulasan']:\n",
        "    cleaned_text.append(text_cleaner(t))"
      ],
      "execution_count": null,
      "outputs": []
    },
    {
      "cell_type": "code",
      "metadata": {
        "colab": {
          "base_uri": "https://localhost:8080/"
        },
        "id": "l6Vjin5RTxnq",
        "outputId": "6f7a1e34-0311-42f6-ccfa-a89689260735"
      },
      "source": [
        "print(data.shape)"
      ],
      "execution_count": null,
      "outputs": [
        {
          "output_type": "stream",
          "name": "stdout",
          "text": [
            "(2904, 4)\n"
          ]
        }
      ]
    },
    {
      "cell_type": "code",
      "metadata": {
        "id": "SWgbGqtS71WA"
      },
      "source": [
        "X = []\n",
        "sentences = list(data['ulasan'])\n",
        "for sen in sentences:\n",
        "    X.append(text_cleaner(sen))"
      ],
      "execution_count": null,
      "outputs": []
    },
    {
      "cell_type": "code",
      "metadata": {
        "colab": {
          "base_uri": "https://localhost:8080/",
          "height": 53
        },
        "id": "PqWSLMQY79Fb",
        "outputId": "e0506dcd-5ec6-4e16-8900-a4c692c602a1"
      },
      "source": [
        "X[3]"
      ],
      "execution_count": null,
      "outputs": [
        {
          "output_type": "execute_result",
          "data": {
            "application/vnd.google.colaboratory.intrinsic+json": {
              "type": "string"
            },
            "text/plain": [
              "'situs belanja online mudah dinavigasi pemenang game mekanismenya suka promosi diskon ditawarkan pikir satunya kejatuhan goyang muncul mengguncangnya voucher diganti dompet lazada voucher transaksi bermanfaat mengizinkannya sumbangan terima kasih'"
            ]
          },
          "metadata": {},
          "execution_count": 7
        }
      ]
    },
    {
      "cell_type": "code",
      "metadata": {
        "id": "92xemR2c8SKi"
      },
      "source": [
        "y = data['label']"
      ],
      "execution_count": null,
      "outputs": []
    },
    {
      "cell_type": "code",
      "metadata": {
        "colab": {
          "base_uri": "https://localhost:8080/"
        },
        "id": "S8xXJH-OJT_w",
        "outputId": "81b360e1-927f-4e5f-a136-a0c14c102c6e"
      },
      "source": [
        "y[1]"
      ],
      "execution_count": null,
      "outputs": [
        {
          "output_type": "execute_result",
          "data": {
            "text/plain": [
              "1"
            ]
          },
          "metadata": {},
          "execution_count": 9
        }
      ]
    },
    {
      "cell_type": "code",
      "metadata": {
        "colab": {
          "base_uri": "https://localhost:8080/"
        },
        "id": "N3Z6c_vTSIc-",
        "outputId": "fb181c1e-d235-4cd7-96cc-bb4cdca06931"
      },
      "source": [
        "print(data.shape)"
      ],
      "execution_count": null,
      "outputs": [
        {
          "output_type": "stream",
          "name": "stdout",
          "text": [
            "(2904, 4)\n"
          ]
        }
      ]
    },
    {
      "cell_type": "markdown",
      "metadata": {
        "id": "QE-SI0Dk8gEL"
      },
      "source": [
        "**bagi** **dataset**"
      ]
    },
    {
      "cell_type": "code",
      "metadata": {
        "id": "12h2Sgqk8bze"
      },
      "source": [
        "X_train, X_test, y_train, y_test = train_test_split(X, y, test_size=0.20, random_state=0)"
      ],
      "execution_count": null,
      "outputs": []
    },
    {
      "cell_type": "markdown",
      "metadata": {
        "id": "n-gYDfDP8l3u"
      },
      "source": [
        "**lapisan** **embedding**"
      ]
    },
    {
      "cell_type": "code",
      "metadata": {
        "id": "ufBthdiC8k2h"
      },
      "source": [
        "top_words = 10000\n",
        "tokenizer = Tokenizer(num_words=top_words)\n",
        "tokenizer.fit_on_texts(X_train)\n",
        "list_tokenized_train = tokenizer.texts_to_sequences(X_train)\n",
        "\n",
        "X_train = tokenizer.texts_to_sequences(X_train)\n",
        "X_test = tokenizer.texts_to_sequences(X_test)"
      ],
      "execution_count": null,
      "outputs": []
    },
    {
      "cell_type": "code",
      "metadata": {
        "colab": {
          "base_uri": "https://localhost:8080/"
        },
        "id": "jJ55nXl18jF7",
        "outputId": "719db7bf-d5ba-4baa-d6c0-271f639930d8"
      },
      "source": [
        "# Adding 1 because of reserved 0 index\n",
        "vocab_size = len(tokenizer.word_index) + 1\n",
        "\n",
        "max_review_length = 100\n",
        "\n",
        "X_train = pad_sequences(X_train, padding='post', maxlen=max_review_length)\n",
        "X_test = pad_sequences(X_test, padding='post', maxlen=max_review_length)\n",
        "\n",
        "vocab_size"
      ],
      "execution_count": null,
      "outputs": [
        {
          "output_type": "execute_result",
          "data": {
            "text/plain": [
              "3272"
            ]
          },
          "metadata": {},
          "execution_count": 10
        }
      ]
    },
    {
      "cell_type": "code",
      "metadata": {
        "colab": {
          "base_uri": "https://localhost:8080/"
        },
        "id": "9aEx94muHB1V",
        "outputId": "dd0c7e65-4a4d-4e14-d6da-f42432f570d8"
      },
      "source": [
        "print(\"Shape of train data:\", X_train.shape)\n",
        "print(\"Shape of Test data:\", X_test.shape)"
      ],
      "execution_count": null,
      "outputs": [
        {
          "output_type": "stream",
          "name": "stdout",
          "text": [
            "Shape of train data: (2323, 100)\n",
            "Shape of Test data: (581, 100)\n"
          ]
        }
      ]
    },
    {
      "cell_type": "code",
      "metadata": {
        "id": "-yBOLD1X9C-w"
      },
      "source": [
        ""
      ],
      "execution_count": null,
      "outputs": []
    },
    {
      "cell_type": "code",
      "metadata": {
        "id": "bE024nE8Dwez"
      },
      "source": [
        ""
      ],
      "execution_count": null,
      "outputs": []
    },
    {
      "cell_type": "markdown",
      "metadata": {
        "id": "IRZzO7hvGYxR"
      },
      "source": [
        "**create** **model** **CNNLSTM**"
      ]
    },
    {
      "cell_type": "code",
      "metadata": {
        "colab": {
          "base_uri": "https://localhost:8080/"
        },
        "id": "_yHS41YmD1e2",
        "outputId": "7c55ab7e-507f-4d76-af40-3ec6b899ea48"
      },
      "source": [
        "embedding_vecor_length = 32\n",
        "model = Sequential()\n",
        "model.add(Embedding(top_words, embedding_vecor_length, input_length=max_review_length))\n",
        "model.add(Conv1D(filters=32, kernel_size=3, padding='same', activation='relu'))\n",
        "model.add(MaxPooling1D(pool_size=2))\n",
        "model.add(LSTM(100, dropout=0.2, recurrent_dropout=0.2))\n",
        "model.add(Dense(1, activation='sigmoid'))\n",
        "model.compile(loss='binary_crossentropy', optimizer='adam', metrics=['accuracy'])\n",
        "print(model.summary())"
      ],
      "execution_count": null,
      "outputs": [
        {
          "output_type": "stream",
          "name": "stdout",
          "text": [
            "Model: \"sequential\"\n",
            "_________________________________________________________________\n",
            " Layer (type)                Output Shape              Param #   \n",
            "=================================================================\n",
            " embedding (Embedding)       (None, 100, 32)           320000    \n",
            "                                                                 \n",
            " conv1d (Conv1D)             (None, 100, 32)           3104      \n",
            "                                                                 \n",
            " max_pooling1d (MaxPooling1D  (None, 50, 32)           0         \n",
            " )                                                               \n",
            "                                                                 \n",
            " lstm (LSTM)                 (None, 100)               53200     \n",
            "                                                                 \n",
            " dense (Dense)               (None, 1)                 101       \n",
            "                                                                 \n",
            "=================================================================\n",
            "Total params: 376,405\n",
            "Trainable params: 376,405\n",
            "Non-trainable params: 0\n",
            "_________________________________________________________________\n",
            "None\n"
          ]
        }
      ]
    },
    {
      "cell_type": "code",
      "metadata": {
        "colab": {
          "base_uri": "https://localhost:8080/"
        },
        "id": "pzyHVI_MHADM",
        "outputId": "74be188b-8fdf-4c4d-de61-10b8faf56853"
      },
      "source": [
        "history = model.fit(X_train, y_train, batch_size=128, epochs=50, verbose=1, validation_split=0.2)\n",
        "\n",
        "score = model.evaluate(X_test, y_test, verbose=1)"
      ],
      "execution_count": null,
      "outputs": [
        {
          "output_type": "stream",
          "name": "stdout",
          "text": [
            "Epoch 1/50\n",
            "15/15 [==============================] - 5s 349ms/step - loss: 0.3977 - accuracy: 0.8418 - val_loss: 0.5231 - val_accuracy: 0.7677\n",
            "Epoch 2/50\n",
            "15/15 [==============================] - 3s 201ms/step - loss: 0.3903 - accuracy: 0.8439 - val_loss: 0.5013 - val_accuracy: 0.7720\n",
            "Epoch 3/50\n",
            "15/15 [==============================] - 3s 177ms/step - loss: 0.3717 - accuracy: 0.8563 - val_loss: 0.5092 - val_accuracy: 0.7720\n",
            "Epoch 4/50\n",
            "15/15 [==============================] - 3s 174ms/step - loss: 0.3818 - accuracy: 0.8466 - val_loss: 0.5032 - val_accuracy: 0.7699\n",
            "Epoch 5/50\n",
            "15/15 [==============================] - 3s 177ms/step - loss: 0.3842 - accuracy: 0.8455 - val_loss: 0.4953 - val_accuracy: 0.7785\n",
            "Epoch 6/50\n",
            "15/15 [==============================] - 3s 173ms/step - loss: 0.3510 - accuracy: 0.8692 - val_loss: 0.4887 - val_accuracy: 0.7914\n",
            "Epoch 7/50\n",
            "15/15 [==============================] - 3s 174ms/step - loss: 0.3326 - accuracy: 0.8832 - val_loss: 0.4953 - val_accuracy: 0.7957\n",
            "Epoch 8/50\n",
            "15/15 [==============================] - 3s 173ms/step - loss: 0.3114 - accuracy: 0.8918 - val_loss: 0.5073 - val_accuracy: 0.7935\n",
            "Epoch 9/50\n",
            "15/15 [==============================] - 3s 174ms/step - loss: 0.3111 - accuracy: 0.8934 - val_loss: 0.4959 - val_accuracy: 0.7957\n",
            "Epoch 10/50\n",
            "15/15 [==============================] - 3s 177ms/step - loss: 0.3237 - accuracy: 0.8832 - val_loss: 0.4976 - val_accuracy: 0.7892\n",
            "Epoch 11/50\n",
            "15/15 [==============================] - 3s 175ms/step - loss: 0.3179 - accuracy: 0.8870 - val_loss: 0.4832 - val_accuracy: 0.8065\n",
            "Epoch 12/50\n",
            "15/15 [==============================] - 3s 175ms/step - loss: 0.2839 - accuracy: 0.9107 - val_loss: 0.4805 - val_accuracy: 0.8215\n",
            "Epoch 13/50\n",
            "15/15 [==============================] - 3s 175ms/step - loss: 0.2786 - accuracy: 0.9150 - val_loss: 0.4906 - val_accuracy: 0.8237\n",
            "Epoch 14/50\n",
            "15/15 [==============================] - 3s 173ms/step - loss: 0.2624 - accuracy: 0.9220 - val_loss: 0.4880 - val_accuracy: 0.8237\n",
            "Epoch 15/50\n",
            "15/15 [==============================] - 3s 173ms/step - loss: 0.2723 - accuracy: 0.9182 - val_loss: 0.5053 - val_accuracy: 0.8194\n",
            "Epoch 16/50\n",
            "15/15 [==============================] - 3s 173ms/step - loss: 0.2559 - accuracy: 0.9247 - val_loss: 0.5047 - val_accuracy: 0.8215\n",
            "Epoch 17/50\n",
            "15/15 [==============================] - 3s 174ms/step - loss: 0.2529 - accuracy: 0.9279 - val_loss: 0.5838 - val_accuracy: 0.8237\n",
            "Epoch 18/50\n",
            "15/15 [==============================] - 3s 174ms/step - loss: 0.3102 - accuracy: 0.9117 - val_loss: 0.4950 - val_accuracy: 0.8258\n",
            "Epoch 19/50\n",
            "15/15 [==============================] - 3s 173ms/step - loss: 0.2839 - accuracy: 0.9187 - val_loss: 0.5245 - val_accuracy: 0.8237\n",
            "Epoch 20/50\n",
            "15/15 [==============================] - 3s 173ms/step - loss: 0.3752 - accuracy: 0.8698 - val_loss: 0.4804 - val_accuracy: 0.8086\n",
            "Epoch 21/50\n",
            "15/15 [==============================] - 3s 174ms/step - loss: 0.3394 - accuracy: 0.9096 - val_loss: 0.5083 - val_accuracy: 0.8086\n",
            "Epoch 22/50\n",
            "15/15 [==============================] - 3s 175ms/step - loss: 0.2493 - accuracy: 0.9316 - val_loss: 0.5748 - val_accuracy: 0.8172\n",
            "Epoch 23/50\n",
            "15/15 [==============================] - 3s 174ms/step - loss: 0.3028 - accuracy: 0.9031 - val_loss: 0.4992 - val_accuracy: 0.8280\n",
            "Epoch 24/50\n",
            "15/15 [==============================] - 3s 176ms/step - loss: 0.2651 - accuracy: 0.9252 - val_loss: 0.5526 - val_accuracy: 0.8043\n",
            "Epoch 25/50\n",
            "15/15 [==============================] - 3s 176ms/step - loss: 0.2675 - accuracy: 0.9166 - val_loss: 0.5311 - val_accuracy: 0.7978\n",
            "Epoch 26/50\n",
            "15/15 [==============================] - 3s 176ms/step - loss: 0.2742 - accuracy: 0.9139 - val_loss: 0.5506 - val_accuracy: 0.8000\n",
            "Epoch 27/50\n",
            "15/15 [==============================] - 3s 176ms/step - loss: 0.2668 - accuracy: 0.9177 - val_loss: 0.5343 - val_accuracy: 0.8043\n",
            "Epoch 28/50\n",
            "15/15 [==============================] - 3s 176ms/step - loss: 0.2394 - accuracy: 0.9306 - val_loss: 0.5737 - val_accuracy: 0.8280\n",
            "Epoch 29/50\n",
            "15/15 [==============================] - 3s 199ms/step - loss: 0.4609 - accuracy: 0.8079 - val_loss: 0.6952 - val_accuracy: 0.5398\n",
            "Epoch 30/50\n",
            "15/15 [==============================] - 8s 504ms/step - loss: 0.6940 - accuracy: 0.5059 - val_loss: 0.6778 - val_accuracy: 0.4989\n",
            "Epoch 31/50\n",
            "15/15 [==============================] - 6s 414ms/step - loss: 0.6862 - accuracy: 0.5135 - val_loss: 0.6756 - val_accuracy: 0.5355\n",
            "Epoch 32/50\n",
            "15/15 [==============================] - 4s 277ms/step - loss: 0.6793 - accuracy: 0.5161 - val_loss: 0.6762 - val_accuracy: 0.5355\n",
            "Epoch 33/50\n",
            "15/15 [==============================] - 3s 174ms/step - loss: 0.6797 - accuracy: 0.5172 - val_loss: 0.6777 - val_accuracy: 0.4882\n",
            "Epoch 34/50\n",
            "15/15 [==============================] - 3s 177ms/step - loss: 0.6811 - accuracy: 0.4962 - val_loss: 0.6773 - val_accuracy: 0.4882\n",
            "Epoch 35/50\n",
            "15/15 [==============================] - 3s 174ms/step - loss: 0.6794 - accuracy: 0.5000 - val_loss: 0.6766 - val_accuracy: 0.5355\n",
            "Epoch 36/50\n",
            "15/15 [==============================] - 3s 173ms/step - loss: 0.6810 - accuracy: 0.5048 - val_loss: 0.6771 - val_accuracy: 0.4882\n",
            "Epoch 37/50\n",
            "15/15 [==============================] - 3s 173ms/step - loss: 0.6799 - accuracy: 0.5183 - val_loss: 0.6764 - val_accuracy: 0.5355\n",
            "Epoch 38/50\n",
            "15/15 [==============================] - 3s 174ms/step - loss: 0.6791 - accuracy: 0.5059 - val_loss: 0.6788 - val_accuracy: 0.4882\n",
            "Epoch 39/50\n",
            "15/15 [==============================] - 3s 173ms/step - loss: 0.6778 - accuracy: 0.5296 - val_loss: 0.6769 - val_accuracy: 0.5355\n",
            "Epoch 40/50\n",
            "15/15 [==============================] - 3s 174ms/step - loss: 0.6806 - accuracy: 0.5065 - val_loss: 0.6767 - val_accuracy: 0.5355\n",
            "Epoch 41/50\n",
            "15/15 [==============================] - 3s 173ms/step - loss: 0.6794 - accuracy: 0.5086 - val_loss: 0.6770 - val_accuracy: 0.4882\n",
            "Epoch 42/50\n",
            "15/15 [==============================] - 3s 178ms/step - loss: 0.6794 - accuracy: 0.5172 - val_loss: 0.6775 - val_accuracy: 0.4882\n",
            "Epoch 43/50\n",
            "15/15 [==============================] - 3s 174ms/step - loss: 0.6791 - accuracy: 0.5183 - val_loss: 0.6770 - val_accuracy: 0.4882\n",
            "Epoch 44/50\n",
            "15/15 [==============================] - 3s 175ms/step - loss: 0.6805 - accuracy: 0.5086 - val_loss: 0.6783 - val_accuracy: 0.4882\n",
            "Epoch 45/50\n",
            "15/15 [==============================] - 3s 173ms/step - loss: 0.6807 - accuracy: 0.4855 - val_loss: 0.6772 - val_accuracy: 0.4882\n",
            "Epoch 46/50\n",
            "15/15 [==============================] - 3s 175ms/step - loss: 0.6790 - accuracy: 0.5054 - val_loss: 0.6768 - val_accuracy: 0.5355\n",
            "Epoch 47/50\n",
            "15/15 [==============================] - 3s 174ms/step - loss: 0.6794 - accuracy: 0.5070 - val_loss: 0.6779 - val_accuracy: 0.4882\n",
            "Epoch 48/50\n",
            "15/15 [==============================] - 3s 175ms/step - loss: 0.6808 - accuracy: 0.5016 - val_loss: 0.6764 - val_accuracy: 0.5355\n",
            "Epoch 49/50\n",
            "15/15 [==============================] - 3s 175ms/step - loss: 0.6794 - accuracy: 0.4882 - val_loss: 0.6771 - val_accuracy: 0.4882\n",
            "Epoch 50/50\n",
            "15/15 [==============================] - 3s 174ms/step - loss: 0.6795 - accuracy: 0.5022 - val_loss: 0.6783 - val_accuracy: 0.4882\n",
            "19/19 [==============================] - 0s 14ms/step - loss: 0.6802 - accuracy: 0.5146\n"
          ]
        }
      ]
    },
    {
      "cell_type": "code",
      "source": [
        "test = pd.read_csv(\"test_tokped.csv\")"
      ],
      "metadata": {
        "id": "i_xxGTmrmIyf"
      },
      "execution_count": null,
      "outputs": []
    },
    {
      "cell_type": "code",
      "metadata": {
        "colab": {
          "base_uri": "https://localhost:8080/"
        },
        "id": "NdjPai8mPNKj",
        "outputId": "732bcbde-7368-4909-ea5b-9bc3c0ac1bcf"
      },
      "source": [
        "scores = model.evaluate(X_test, y_test, verbose=1,batch_size = 256)\n",
        "print(\"Accuracy: %.2f%%\" % (scores[1]*100))"
      ],
      "execution_count": null,
      "outputs": [
        {
          "output_type": "stream",
          "name": "stdout",
          "text": [
            "3/3 [==============================] - 0s 48ms/step - loss: 0.4618 - accuracy: 0.8451\n",
            "Accuracy: 84.51%\n"
          ]
        }
      ]
    },
    {
      "cell_type": "code",
      "metadata": {
        "colab": {
          "base_uri": "https://localhost:8080/",
          "height": 573
        },
        "id": "EB1tg8QnPUeV",
        "outputId": "3c289764-e018-485d-8f20-0928338f45e3"
      },
      "source": [
        "import matplotlib.pyplot as plt\n",
        "plt.plot(history.history['accuracy'])\n",
        "plt.plot(history.history['val_accuracy'])\n",
        "plt.title('model accuracy')\n",
        "plt.ylabel('accuracy')\n",
        "plt.xlabel('epoch')\n",
        "plt.legend(['train','test'], loc='upper left')\n",
        "plt.show()\n",
        "\n",
        "plt.plot(history.history['loss'])\n",
        "plt.plot(history.history['val_loss'])\n",
        "\n",
        "plt.title('model loss')\n",
        "plt.ylabel('loss')\n",
        "plt.xlabel('epoch')\n",
        "plt.legend(['train','test'], loc='upper left')\n",
        "plt.show()"
      ],
      "execution_count": null,
      "outputs": [
        {
          "output_type": "display_data",
          "data": {
            "image/png": "[encoded data removed]",
            "text/plain": [
              "<Figure size 432x288 with 1 Axes>"
            ]
          },
          "metadata": {
            "needs_background": "light"
          }
        },
        {
          "output_type": "display_data",
          "data": {
            "image/png": "[encoded data removed]",
            "text/plain": [
              "<Figure size 432x288 with 1 Axes>"
            ]
          },
          "metadata": {
            "needs_background": "light"
          }
        }
      ]
    },
    {
      "cell_type": "code",
      "metadata": {
        "id": "rhy5uc9IH3BC"
      },
      "source": [
        "instance = X_test"
      ],
      "execution_count": null,
      "outputs": []
    },
    {
      "cell_type": "code",
      "source": [
        "X_test = test['prepro']"
      ],
      "metadata": {
        "id": "pgiTyF0MmutW"
      },
      "execution_count": null,
      "outputs": []
    },
    {
      "cell_type": "code",
      "source": [
        "X[1]"
      ],
      "metadata": {
        "colab": {
          "base_uri": "https://localhost:8080/",
          "height": 70
        },
        "id": "bJOZJyHxmz-h",
        "outputId": "4b42d57e-50a5-4a0b-d7b2-766a7ef0e692"
      },
      "execution_count": null,
      "outputs": [
        {
          "output_type": "execute_result",
          "data": {
            "application/vnd.google.colaboratory.intrinsic+json": {
              "type": "string"
            },
            "text/plain": [
              "'pasar bagus menemukan membandingkan harga bagus penjual bagus menemukan penjual buruk nyaman pindah seller susah seller bagus tokopedia menilai tokopedia buruk penjual buruk buruknya normal tokopedia terbaik terima kasih tokped tim terbaik cinta'"
            ]
          },
          "metadata": {},
          "execution_count": 18
        }
      ]
    },
    {
      "cell_type": "code",
      "metadata": {
        "id": "1IBTkzu4bFju"
      },
      "source": [
        "instance = tokenizer.texts_to_sequences(instance)\n",
        "\n",
        "instance = pad_sequences(instance, padding='post', maxlen=max_review_length)"
      ],
      "execution_count": null,
      "outputs": []
    },
    {
      "cell_type": "code",
      "source": [
        "class1 = model.predict(instance)\n",
        "for i in range(0, 100):\n",
        "    print ('Review:', X[i])\n",
        "    print ('probability:',class1[i])"
      ],
      "metadata": {
        "id": "fTOycV9vLUzP"
      },
      "execution_count": null,
      "outputs": []
    },
    {
      "cell_type": "code",
      "metadata": {
        "id": "BjquqtDx-cqP"
      },
      "source": [
        "model.save(\"modelbismillah.h5\")"
      ],
      "execution_count": null,
      "outputs": []
    },
    {
      "cell_type": "code",
      "source": [
        "import pickle"
      ],
      "metadata": {
        "id": "0j0QZR1cF7z_"
      },
      "execution_count": null,
      "outputs": []
    },
    {
      "cell_type": "code",
      "source": [
        "pickle.dump(model, open('sentiment.model','wb'))"
      ],
      "metadata": {
        "colab": {
          "base_uri": "https://localhost:8080/"
        },
        "id": "3t4TO_5MF-qe",
        "outputId": "c1b8f295-3f98-4921-a0ef-826d0ed88225"
      },
      "execution_count": null,
      "outputs": [
        {
          "output_type": "stream",
          "name": "stdout",
          "text": [
            "INFO:tensorflow:Assets written to: ram://bba8270b-466e-4d87-b692-d03d713534b8/assets\n"
          ]
        },
        {
          "output_type": "stream",
          "name": "stderr",
          "text": [
            "WARNING:absl:<keras.layers.recurrent.LSTMCell object at 0x7f01fd0f4690> has the same name 'LSTMCell' as a built-in Keras object. Consider renaming <class 'keras.layers.recurrent.LSTMCell'> to avoid naming conflicts when loading with `tf.keras.models.load_model`. If renaming is not possible, pass the object in the `custom_objects` parameter of the load function.\n"
          ]
        }
      ]
    },
    {
      "cell_type": "code",
      "metadata": {
        "id": "nRq0IkU9CIz_"
      },
      "source": [
        "X = data['ulasan'].astype(str)"
      ],
      "execution_count": null,
      "outputs": []
    },
    {
      "cell_type": "code",
      "source": [
        "test = X"
      ],
      "metadata": {
        "id": "EUC3CpVubFQT"
      },
      "execution_count": null,
      "outputs": []
    },
    {
      "cell_type": "code",
      "source": [
        "import tensorflow as tf\n",
        "from tensorflow.keras import backend\n",
        "graph = tf.compat.v1.get_default_graph()"
      ],
      "metadata": {
        "id": "PboKNpTlZZ1G"
      },
      "execution_count": null,
      "outputs": []
    },
    {
      "cell_type": "code",
      "source": [
        "class1 = model.predict(instance)\n",
        "for i in range(0, 400):\n",
        "    print ('Review:', X[i])\n",
        "    print ('probability:',class1[i])"
      ],
      "metadata": {
        "id": "Rnqx-ppOVpdW",
        "colab": {
          "base_uri": "https://localhost:8080/"
        },
        "outputId": "7327f1cb-1b2f-4293-f9c3-aec8c64a22bb"
      },
      "execution_count": null,
      "outputs": [
        {
          "output_type": "stream",
          "name": "stdout",
          "text": [
            "Review: aplikasi membantu mudah membantu orang orang pasar berguna pengalaman bagus toko legit menjual produk berkualitas harga murah bijak menemukan toko penjual bagus penilaian gambar kuncinya salah toko belanja mudah dinavigasi penjualan potongan harga kupon voucher gratis\n",
            "probability: [0.9589722]\n",
            "Review: platform belanja online didesain sempurna pelanggan memilih berbelanja online rumah pandemi fitur terpuji aplikasi pengirimannya barang pesan tanggal dikirim pertumbuhan kesuksesan berkelanjutan kesenangan pengalaman terima kasih lazada\n",
            "probability: [0.9589716]\n",
            "Review: suka memiliki aplikasi bertahun aplikasi pandemi lazada membuatnya nyaman pengiriman cepat produk asli harga terjangkau diskon bantuan app dimiliki orang\n",
            "probability: [0.95896506]\n",
            "Review: situs belanja online mudah dinavigasi pemenang game mekanismenya suka promosi diskon ditawarkan pikir satunya kejatuhan goyang muncul mengguncangnya voucher diganti dompet lazada voucher transaksi bermanfaat mengizinkannya sumbangan terima kasih\n",
            "probability: [0.14385128]\n",
            "Review: aplikasi kebutuhan pelanggan memiliki daftar bersih membuatnya diakses mudah lazada tanggapan tindakan layanan pelanggan disarankan keamanan terjamin butuhkan tersedia\n",
            "probability: [0.14385125]\n",
            "Review: belanja online impian orang orang membayangkan berbelanja nyaman duduk rumah keras pergi toko lazada belanja online mudah nyaman berbelanja lazada termudah\n",
            "probability: [0.9589687]\n",
            "Review: pengalaman bagus mudah menemukan barang voucher pengiriman gratis pembelian murah membelinya toko fisik layanan pelanggan responsif aplikasi mudah\n",
            "probability: [0.9589726]\n",
            "Review: lazada salah commerce terbaik miliki indonesia intuitif memudahkan membeli butuhkan senang menggunakannya fitur fiturnya giveaway voucher games diskon layanannya\n",
            "probability: [0.14385128]\n",
            "Review: aplikasi enam puas aplikasi andal aplikasi lancar memiliki produk terjangkau pilihan luas promo penawaran opsi pembayaran aman layanan purna jual komunitas rekan lazada hebat bintang aplikasi lazada\n",
            "probability: [0.9589696]\n",
            "Review: membantu bertransaksi online karantina akibat pandemi platform membantu bertransaksi mudah produk produk butuhkan dibeli online aman terjamin keamanan transaksi mudah menavigasi penjelajahan item cari alat tombol berguna menemukan produk ulasan pengembalian pembayaran pembayaran permainan live chat dll nilai nyaman repot\n",
            "probability: [0.9589726]\n",
            "Review: suka aplikasi mudah dinavigasi terpenting memperbarui aplikasi memperbaiki bug coba aplikasi memiliki pilihan produk murah dipilih\n",
            "probability: [0.95896935]\n",
            "Review: aplikasi lazada menyenangkan perspektif shopaholic smart spender navigasi aplikasi mudah info produk ditemukan mudah sukai mencari produk namanya mengambil foto gambarnya plus pilihan produk terkait dengannya pengalaman belanja online termudah terbaik plus voucher ditemukan aplikasi lazada\n",
            "probability: [0.9589673]\n",
            "Review: aplikasi lazada super love aplikasi membantu belanja nyaman bayi berbelanja lazada butuhkan nasa lazada yan aplikasi memiliki promo nikmati endeed lazada berkah pandemi kekuatan godbless\n",
            "probability: [0.95897055]\n",
            "Review: suka penjual membatalkan pesanan alasan lazada mengembalikan pembayaran repot bolak mengirim pesan emosi meluap luap dll mengobrol penjual kepastian kepercayaan pembelian pengiriman cepat\n",
            "probability: [0.14385128]\n",
            "Review: aplikasi kenyamanan berbelanja kebutuhan klik aman terjamin khawatir pengiriman cepat pengendara bertanggung hormat agen pelanggan penasihat rekan laz berpengetahuan pengertian kesulitan membeli butuhkan merekomendasikan keluarga teman teman\n",
            "probability: [0.95893604]\n",
            "Review: proses pembayaran lancar aplikasi pesaing macet memuat menit transaksi pengisian ulang pembayaran pesanan pengalaman berbelanja repot membuang kesabaran lazada\n",
            "probability: [0.14385125]\n",
            "Review: aplikasi belanja online favorit memiliki fitur favorit lazcoin diskon item gratis aplikasi ramah pengguna mudah dibandingkan aplikasi belanja\n",
            "probability: [0.95897126]\n",
            "Review: mengunduh aplikasi satunya perhatian membeli hadiah natal anak menjelajahi aplikasi kagum diskon potongan harga menikmati aplikasi satunya aplikasi belanja diskon potongan harga hadiah belanja gratis\n",
            "probability: [0.9589585]\n",
            "Review: aplikasi bagus memakan merespons perwakilan pelanggan pesan bot memiliki menggoyangnya aplikasi bagus kalanya aplikasi lambat diperbaiki mengosongkan memori ram\n",
            "probability: [0.9589623]\n",
            "Review: mengalami transaksi pengiriman diharapkan kualitas produk layanan pertahankan terbaik juta bintang memutuskan melepaskan platform belanja online ponsel perbandingan pesaing tinggal lazada lazada\n",
            "probability: [0.95896876]\n",
            "Review: bagus pesanan dibatalkan sesuai kebijakan barang pesan keluarga kondisi dikemas dikirim kecuali selimut pembelian pengalaman pengiriman pengemasan\n",
            "probability: [0.95896363]\n",
            "Review: aplikasi hebat suka lazada barang barangnya harga terjangkau penjualan back back penjualan kilat membantu orang pergi mal situasi dunia terima kasih lazada\n",
            "probability: [0.95896804]\n",
            "Review: nyaman proses mudah layanan pelanggan memiliki pengiriman ambilis nila magrespond menghubungi pembaruan menyediakan voucher gratis\n",
            "probability: [0.14385125]\n",
            "Review: belanja online lazada nyaman pandemi pergi mal window shopping alih alih unduh aplikasi perangkat jelajahi kunjungi toko lihat ulasan pembeli memiliki ide item terbaik dibeli menemukan dihabiskan usaha pengiriman langsung alamat membeli barang harga wajar terjangkau kupon voucher bagus toko pengiriman gratis\n",
            "probability: [0.9589653]\n",
            "Review: lazada satunya platform belanja online sukai mudah membantu mommies pandemi pergi membeli barang bayi menikmati diskon permainan hadiah\n",
            "probability: [0.95897126]\n",
            "Review: status pengiriman lazada aplikasi mudah dilacak shopee pengembalian dana barang jam mengirim barang lbc pengembalian uang jam membeli penjual sengaja mengirimi barang salah terpecahkan terima kasih lazada\n",
            "probability: [0.14385116]\n",
            "Review: aplikasi ramah pengguna termudah mudah berbelanja online penelusuran asisten pelanggan membantu membantu memiliki harga terendah\n",
            "probability: [0.9589707]\n",
            "Review: salah toko online terbaik indonesia toko diandalkan rumah membeli butuhkan lazada kebahagiaan pelanggannya permainan kejutan menyenangkan recomended banget\n",
            "probability: [0.9589704]\n",
            "Review: iklan game mengganggu menyebalkan tombol ditekan umpan klik menginstal aplikasi\n",
            "probability: [0.14385119]\n",
            "Review: aplikasi mengganggu iklan diluncurkan paksa menjelajah permainan iklan diluncurkan paksa kali kesal aplikasi\n",
            "probability: [0.14385125]\n",
            "Review: dukungan pelanggan gunanya memecahkan mengkonfirmasi lakukan perwakilan memutuskan sambungan kasar sesuai berbeda profesional menunggu penarikan pengembalian dana sebulan proses\n",
            "probability: [0.14385119]\n",
            "Review: bintang aplikasi ulasan menemukan bug memesan barang periksa kali memesan menerima barang salah salah tim bilang salah penjualnya memesan memilih barang salah menghapus aplikasi menggunakannya\n",
            "probability: [0.14385119]\n",
            "Review: aplikasi tersedot kali pembayaran sistem kartu kredit menyimpan kartu default aplikasi kartu ditipu layanan pelanggan tersesat menyelesaikan keluhan manajemen tim pelanggan terpisah keluhan serius mendorong pelanggan menyelesaikan\n",
            "probability: [0.14385119]\n",
            "Review: iklan membuka aplikasi menjengkelkan mencoba bro tombol berfungsi penjualan membuatnya istimewa\n",
            "probability: [0.14385125]\n",
            "Review: pengiriman kurir lazada shopee opsi pengiriman memilih kurir terbaik pelanggan diterapkan penjual lokal lbc kurir terburuk mengembalikan barang alasan mengembalikan barang sepengetahuan memeriksa status pesanan mengembalikannya terburuk menjadikan pelanggan buruk\n",
            "probability: [0.14385119]\n",
            "Review: kalinya membeli barang dompet lazada voucher dapatkan menghubungi layanan pelanggan menerima email mengirim tangkapan layar kesalahan email diterima meningkatkan online agen memeriksanya penyelesaian membuatku menunggu agen payah menyelesaikan\n",
            "probability: [0.14385116]\n",
            "Review: layanan pelanggan buruk alami memeriksa profil informasi menutup telepon wow lazada menawarkan voucher pastikan berfungsi frustrasi kali menggunakannya menggunakannya relevan memiliki layanan pelanggan\n",
            "probability: [0.14385119]\n",
            "Review: aplikasi bodoh info mobil kredit diretas aplikasi memposting iklan mengganggu harap pengembang aplikasi mati kematian menyiksa\n",
            "probability: [0.14385119]\n",
            "Review: aplikasi menangani volume crash penjualan kurir mitra menangani volume penjualan membutuhkan mengirimkannya item memiliki tanggal kedaluwarsa\n",
            "probability: [0.9589695]\n",
            "Review: aplikasinya antarmuka pengguna buruk mengganggu iklannya memasang iklan terburuk umpan tombol palsu aplikasi membawa aplikasi memiliki idiot menyedihkan menyedihkan\n",
            "probability: [0.14385116]\n",
            "Review: bintang pembelian kesepakatan beban beli sayang menangani kesalahan aplikasi memperbaiki liga\n",
            "probability: [0.14385128]\n",
            "Review: pengiriman bodoh instal membunuh menemukan ulangi kali belajar alamat\n",
            "probability: [0.14385125]\n",
            "Review: aplikasi ruang data memuat beranda iklan mengerikan pembaruan muat penawaran piso lintas kali membelinya\n",
            "probability: [0.14385125]\n",
            "Review: lazada sampah membukanya situs web mengkonfirmasi pesanan situs web mengetuk konfirmasi aplikasi menghapus aplikasi menginstal tombol dikonfirmasi berubah mengetuk konfirmasi lazada ramah pengguna sulit memahami kerja lazada bodoh memahaminya biaya pengiriman ditawarkan lazada terjangkau\n",
            "probability: [0.14385119]\n",
            "Review: lazada pembeli memiliki opsi memblokir pelepasan pembayaran penjual penjual mengirimkan sepenuhnya penjual menolak pengembalian dana pengembalian jam kontak menunggu pembeli merespons bukti pengiriman gambar diambil menjamin pembeli pengiriman diantar pos jaga pinggir jalan difoto bukti\n",
            "probability: [0.14385113]\n",
            "Review: pengalaman menyedihkan memiliki barang tanggapan wanita layanan pelanggan hang menunggu menit terhubung menit berbicara dengannya pengembalian uang barang tanggapan penipuan kecurangan memiliki opsi menempatkan nol bintang memposting saluran online merekomendasikan orang aplikasi\n",
            "probability: [0.14385119]\n",
            "Review: uang macet lazada wallet ditarik memverifikasi lazada wallet mencoba berkali kali aplikasi macet kali layar selfie mencoba menghubungi layanan pelanggan obrolan langsung panggilan telepon metode asisten virtual saldo wallet tolong bantu\n",
            "probability: [0.14385107]\n",
            "Review: pengalaman terburuk penjual pembeli penjual lazada berhenti membayar penjualan menelepon pembayaran memutuskan menginstal berbelanja orang lazada berubah pembayaran barang dibatalkan alasan penjual mengirimkan barang dikembalikan bayarkan barang\n",
            "probability: [0.14385116]\n",
            "Review: menemukan item beli harga murah pengiriman gratis senang mencoba memesan menemukan pengiriman gratis penjual mengenakan biaya pengiriman penipuan barang pembungkus ekstra harganya tren platform penjual licik dipercaya jujur\n",
            "probability: [0.14385155]\n",
            "Review: fungsi pencarian bodoh rekomendasi produk harian relevan bersifat pornografi melaporkan produk perbedaan dewasa muncul rutin dikelola platform biarkan anak remaja remaja aplikasi shopee gantinya\n",
            "probability: [0.14385116]\n",
            "Review: membingungkan item direkomendasikan berguna algoritmenya buruk produk beli barang barang direkomendasikan ditampilkan menemukan produk beli sarannya memiliki tombol kategori halaman beranda mendorong produk beli\n",
            "probability: [0.14385116]\n",
            "Review: peringkat negatif melakukannya pengalaman buruk memesan membayar barang harga diskon bagus sebulan menunggu barang hilang memutuskan membatalkan mengembalikan uang opsi kompensasi pikirkan kali lazada penuh penjual scammer lazada scam\n",
            "probability: [0.14385125]\n",
            "Review: lazada bagus membosankan stres pengembalian uang pengembalian dompet barang dibatalkan lazada keterlambatan sumber dikembalikan dompet lazada kedaluwarsa menit serius uang mendapatkannya memperbarui pencarian kerja minggu lucu kali cash delivery\n",
            "probability: [0.14385116]\n",
            "Review: aplikasi refresh mengganggu menelusuri item obral flash item refresh daftar mencoba menulis ulasan item refresh mengklik kirim mengedit ulasan item beli membeli barang rusak proses garansi penjual payah menulis ulasan menyebalkan juni diselesaikan\n",
            "probability: [0.14385128]\n",
            "Review: layanan dukungan pelanggan terburuk lambat tolong tingkatkan produksi pengiriman boros penjual mengirimkan barang lazada menundanya memiliki makanan sabah dipesan platform lazada harap hindari memiliki pengaturan platform barang produk\n",
            "probability: [0.14385116]\n",
            "Review: dukungan pelanggan membantu pengiriman memakan dibatalkan memiliki fitur membatalkan pesanan pesanan hilang tab menerima pemberitahuan pengiriman memiliki opsi membatalkannya\n",
            "probability: [0.14385131]\n",
            "Review: bagus covid kurir menelepon mengirimi pesan barang terkirim menerima layanan pelanggan total scam mate\n",
            "probability: [0.14385125]\n",
            "Review: aplikasi buruk pembeli direkomendasikan pengalaman kali aplikasi lazada kekecewaan\n",
            "probability: [0.14385125]\n",
            "Review: bintang melakukannya aplikasi mimpi buruk memburuk terbuang menjelajah hang membeku rekomendasinya konyol kadang kadang terkait kumpulan rekomendasi muncul berulang ulang menggulir mengirimkan ulasan anonim berkomentar perbaiki bug\n",
            "probability: [0.14385119]\n",
            "Review: aplikasi berguna layanan berguna layanan pelanggan pelacakan berfungsi nomor dihubungi bantuan\n",
            "probability: [0.14385125]\n",
            "Review: produk scammer palsu lazada memfilter mengecek ulang penjual produk fitur rapi sulit satunya bagus memiliki komersial persuasif puas aplikasi gantinya aplikasi memiliki koin gratis pengiriman gratis voucher dll\n",
            "probability: [0.14385125]\n",
            "Review: masuk bagan tekan tombol check out langsung melompat layar beranda berulang kali melompat layar utama mengadu aplikasi buruk\n",
            "probability: [0.14385119]\n",
            "Review: aplikasi buruk kali mencoba membeli beban lintas internet cepat mencoba menghubungi layanan pelanggan pemecahan log log out hapus cache data instal uninstall mencoba internet lambat koneksi internet cepat streaming buffering\n",
            "probability: [0.14385119]\n",
            "Review: sejujurnya jujur pengalaman buruk bintang aplikasi memiliki kemarahan data koneksi aplikasi memiliki melaporkan halaman memiliki koneksi buruk kali mengetuk kirim kali memilih barang beli memilih metode pembayaran mengetuk tempatkan pesanan tombol langsung halaman kosong judul konfirmasi pembayaran\n",
            "probability: [0.14385107]\n",
            "Review: mencari item latihan sia sia dibombardir item terkait pencarian kunci macross hasil mainan gundam transformer hit teratas sekelompok item terkait dibumbui cari pandemi meninggalkan platform\n",
            "probability: [0.14385116]\n",
            "Review: lazada bagus iklan berhenti produk beli sayangnya situlah transaksi bisnis lihat menghabiskan pengguna pesanan pelacakannya berkomunikasi kurir membombardir iklan berguna shoppee\n",
            "probability: [0.14385125]\n",
            "Review: pesan laptop lazada charger nya rusak trus pesan charger penggantinya penjual responsif jam mengemas meneruskan pengisi daya logistik lazada pemindaian pengiriman seminggu pembaruan penjual hilang diabaikan logistik lazada barangnya penjual lazada mengecewakan\n",
            "probability: [0.14385119]\n",
            "Review: iklan mengarahkan mengunduh aplikasi membaca artikel webtoon google mengunduhnya diinstal mengarahkan membuka aplikasi mengganggu menghabiskan setengahnya menutup aplikasi dibuka tolong biarkan membaca tenang\n",
            "probability: [0.14385119]\n",
            "Review: memesan lemari portabel minggu membuka paket menemukan rusak mencoba penjual merespons kali memeriksa kotak masuk aplikasi lintas ditemukan jaringan berlaku pelanggan mencoba menghubungi nomor penjual berhasil telepon aktif sih menempatkan proses pengembalian dana\n",
            "probability: [0.14385125]\n",
            "Review: aplikasi bagus menelusuri produk halus aplikasi sampah pembaruan membukanya memperbaruinya macet kali membukanya crash mengklik menunggu crash buka feed live feed ayo kawan tolong perbaiki aplikasi ditingkatkan memperbaiki bug aplikasi sampah\n",
            "probability: [0.14385125]\n",
            "Review: produk keranjang mencoba menguninstall aplikasi mengklik tombol tambahkan troli produk apapun tertulis maaf beres membeli voucher khawatir sia sia situasi aplikasi ditampilkan aplikasi lazada ayah produk keranjangnya koneksi internet berfungsi pesan\n",
            "probability: [0.1438511]\n",
            "Review: aplikasi berfungsi membeli ponsel terjebak neraka terdeteksi lintas pengiriman gratis lelucon biaya pengiriman melacak pengiriman lelucon kurir kurir berbohong ajukan keluhan yakinlah memiliki tindak\n",
            "probability: [0.14385119]\n",
            "Review: aplikasi layanan pelanggan bagus pilihan layanan pelanggan terbatas terhubung agen langsung membeli barang ppl memanggil membatalkan barang kehabisan stok repot repot memperbarui aplikasi frustasi memasukkan membeli barang penjual harganya sen\n",
            "probability: [0.14385125]\n",
            "Review: iklan gugup mengganggu otomatis muncul aplikasi mencoba tombol umpan klik meluangkan ulasan selamat aplikasi belanja populer fitur menonaktifkan aplikasi mencopot pemasangannya menyebabkan playstore bermunculan hentikan iklan\n",
            "probability: [0.1438511]\n",
            "Review: aplikasi permainan dikonfirmasi lihat item tujuan utama membeli kategori toko membingungkan sulit menelusuri peningkatan pencarian antarmuka toko mencari toko meningkatkan antarmuka voucher diskon minim berbelanja\n",
            "probability: [0.14385116]\n",
            "Review: menginstal aplikasi memesan jam lintas terdeteksi mencoba mematikan ponsel menginstal ulang aplikasi mengaksesnya mengecewakan semoga memperbaiki mengalami\n",
            "probability: [0.14385119]\n",
            "Review: adikku memesan telepon membayar tabungannya senang bagus mencoba telepon rusak memiliki penyimpanan internal tersisa menginstal aplikasi mencoba mengembalikannya layanan pelanggannya payah mengirimnya memuat kali mencoba mengirimkan formulir pengembalian dana\n",
            "probability: [0.1438514]\n",
            "Review: aplikasi menjengkelkan menjengkelkan lazada menjelajahi google iklan lazada sistem lemah tolong platform terbesar pengguna jalankan sistem hebat sistem kuat harap perhatikan ulasan orang thts all\n",
            "probability: [0.14385113]\n",
            "Review: mencoba pengiriman pengiriman mohon perbaiki status pengiriman paket pelanggan menghubungi layanan pelanggan antrian mengubah paket pribadi informasi salah buang buang menunggu pengiriman app parsel pengiriman dikirimkan tolong cari kesalahannya perbaiki\n",
            "probability: [0.14385116]\n",
            "Review: mimpi buruk ulasan produk pesanan foto diunggah halaman disegarkan otomatis membutuhkan tulis ulasan hilang foto fotonya pengalaman pembeli bencana pesanan ditandai upaya pengiriman gagal upaya nyata mentolerir ketidakjujuran menonaktifkan akun\n",
            "probability: [0.14385128]\n",
            "Review: salah sistem kali mencoba memesan memilih voucher voucher memenuhi syarat barang lazada metode fifo voucher berharap diatasi\n",
            "probability: [0.14385116]\n",
            "Review: kecewa aplikasi menyaksikan kesalahan funfarm menyebabkan menukar stroberi hadiah layanan pelanggan gambar video kesalahan menunggu umpan menunggu jam program pertukaran stroberi tanggapan memperbaiki kesalahan masuk akal\n",
            "probability: [0.14385116]\n",
            "Review: berbelanja lazada aplikasinya berguna suka lazada muncul sengaja mengklik situs web aplikasi lazada muncul otomatis iklan mengganggu meng uninstall app browsing internet website bebas push notification iklan lazada maaf\n",
            "probability: [0.14385125]\n",
            "Review: lazada terhormat tujuan terbukti tumbuh bertahun aplikasi menemukan menarik kemarin pemesanan aplikasi hang pesan kesalahan muncul membuka aplikasi sayung lintas jaringan terdeteksi area aplikasi ponsel terhubung data seluler kepercayaan pengguna\n",
            "probability: [0.14385119]\n",
            "Review: menyesatkan tampilkan pengiriman gratis pengguna biaya peduli dompet metode pembayaran harga menyesatkan tampilkan harga memilih jenis warna harga meningkat platform ramah dibandingkan sxxpee pengembang meningkatkan layanan pelanggan meningkatkan memahami pembeli penjual salah mengirim ukuran sengketa pembeli valid pembeli menanggung biaya pengembalian dana\n",
            "probability: [0.1438511]\n",
            "Review: iklan menghancurkan masuk ponsel memiliki ponsel dinding api bagus selamat tinggal iklan mengganggu chrome tolong hapus kurangi iklan malwares perangkat penuh iklan sht muncul\n",
            "probability: [0.14385119]\n",
            "Review: aplikasi membutuhkan bantuan dukungan pelanggan berguna scammers mengirim produk rusak berbeda digambarkan menunggu pengembalian dana mengirim produk supervisor menelepon menelepon dukungan pelanggan membantu penipu\n",
            "probability: [0.14385128]\n",
            "Review: menghubungi layanan pelanggan kosong buang buang refresh kesempatan mengobrol lazada orang antrean giliran menunggu menit merespons agen berbicara orang bersamaan terpecahkan ppl mencari layanan pelanggan tolong alamat email buang buang efisien\n",
            "probability: [0.14385128]\n",
            "Review: keberatan rumit iklan berisik promo gamified aplikasi bermasalah memblokir lintas dilaporkan jaringan terlepas jaringan data seluler mengirim email alamat dukungan memantul email suka online situs web utama fitur terbatas aplikasi\n",
            "probability: [0.14385119]\n",
            "Review: membeli barang tipu muslihat merusak aplikasi versi lite peduli streaming langsung permainan omong kosong hapus daftar batas item keranjang kali mengetuk item troli mengetuk item daftar menjengkelkan\n",
            "probability: [0.14385125]\n",
            "Review: pengalaman pribadi memesan salah toko resmi terverifikasi menunggu membatalkan pesanan toko gagal mengirimkan barang mengembalikannya barang dikembalikan biaya pengiriman pencuri lazada memiliki layanan termurah aplikasi belanja direkomendasikan\n",
            "probability: [0.14385125]\n",
            "Review: aplikasi oke alasan bintang sialan orang memperlakukan paket hormat tanggal jatuh tempo pengiriman habis terkirim layanan pengiriman terburuk ditemukan membeli berat toko meninggalkan fasilitas penyiritan tuhan alasan buang uang pengembalian lazada mengirim barang\n",
            "probability: [0.14385113]\n",
            "Review: belanja online favorit harap memiliki opsi menyetel metode pembayaran default memiliki voucher pengiriman gratis otomatis memilih voucher pengiriman peso memperbaruinya pilihan menghubungi keluhan cashback membayar tagihan sebulan mendengar mengecewakan\n",
            "probability: [0.14385128]\n",
            "Review: verifikasi otp metode pembayaran kartu hilang pembayaran otomatis disetujui silakan periksa keamanan aplikasi mengklik check out membawa halaman produk menutup aplikasi hasil pencarian berdasarkan kunci seringkali akurat bug membayar menunjukkannya\n",
            "probability: [0.14385116]\n",
            "Review: aplikasi bertahun kalinya menemukan kesalahan kesalahan oops beres memesan bug perbaiki mengubah ulasan\n",
            "probability: [0.14385128]\n",
            "Review: bagus penjual mengirim barang koordinasi lazada penjual menyelesaikan mengambil tindakan memesan barang tanggal juli tanggal juli menerimanya\n",
            "probability: [0.14385119]\n",
            "Review: iklan menampilkan pakaian wanita pengaturan mematikannya menemukannya miris iklan tekan tertarik muncul nyaman kasih bintang buruk\n",
            "probability: [0.14385119]\n",
            "Review: aplikasinya bagus sayangnya lex layanan pelanggannya mengerikan barang macet depo melewati tanggal pengiriman dijanjikan panggilan frustasi layanan pelanggan barang ditandai hilang depot penyesalan kompensasi mengharapkan mengikuti aturan perusahaan pengembalian uang pembatalan memakan terdengar penipuan menggulung uang perusahaan\n",
            "probability: [0.14385125]\n",
            "Review: aplikasi laggy buruk bodoh sulit mengirimkan ulasan video foto mengirim video foto penjual langsung ruang obrolan mengalami mengirimkan ulang ulasan melakukannya aplikasi lambat ulasannya lolos bodoh pengguna lazada kali buruk\n",
            "probability: [0.14385107]\n",
            "Review: benci aplikasi memilih teks diterjemahkan memperbesar gambar detail dibutuh mengunduhnya tautan sial play store terbuka suka menjelajah browser membuatnya pencarian sampah hasil permintaan pencarian bola pintar hasil bohlam dasar mencari frasa\n",
            "probability: [0.14385119]\n",
            "Review: layanan buruk dialami hidup memiliki pembaruan pengiriman pembaruan catatan pelacakan pesanan perbaikan balasan layanan pelanggan kesulitan level pembatalan pengembalian dana tombol batal pembelian jalur layanan pelanggan menunggu menunggu menunggu menunggu belanja online terburuk\n",
            "probability: [0.14385113]\n",
            "Review: mohon membeli lazada kecuali memiliki printer menerima barang salah barang rusak memiliki printer memilih menyimpan barang pergi cetak sarankan pergi shopxx barang salah rusak memiliki opsi langsung pengembalian uang pengembalian\n",
            "probability: [0.14385107]\n",
            "Review: menampilkan iklan detik membuka aplikasi toko iklan cenderung menutup lazada edit mencoba lazada menggunakannya lihat aplikasi iklan detik aplikasi buka\n",
            "probability: [0.14385116]\n",
            "Review: buruk pembaruan fungsi pencarian buruk item terkait pencarian produk sunting kemampuan mengurutkan berfungsi edit mengurangi peringkat integrasi redmart sunting sistem peninjauan gunanya produk vendor item sunting aplikasi membeku sesi diatur ulang sunting barang palsu layanan pelanggan mengerikan pencarian redmart hasil lazada berguna\n",
            "probability: [0.14385119]\n",
            "Review: salah aplikasi memperbaruinya berhasil memuat mencoba aplikasi milik aplikasi harap memindai produk obral menjijikkan pribadi sulit bantuan mengirim balasan otomatis\n",
            "probability: [0.14385116]\n",
            "Review: ulasan mengalami iklan lazada mengganggu halaman aplikasi menjengkelkan mengklik menutupnya membuka aplikasi lazada gantinya memutuskan mencopot pemasangan aplikasi\n",
            "probability: [0.14385128]\n",
            "Review: aplikasi terburuk bintang nol menilai bintang nol game berguna bermunculan barang barang kebanyakan mahal pengiriman gratis shopee mengklik item menampilkan item lazada sulit dinavigasi tanggapan otomatis menyebalkan aplikasi terburuk\n",
            "probability: [0.1438511]\n",
            "Review: bertahun memperbaiki fitur pencarian fitur pencarian salah konyol lihat fungsi pencarian akurat perbaiki aplikasi bertahun fungsi pencarian bodoh memperbaiki fungsi pencarian\n",
            "probability: [0.14385119]\n",
            "Review: aplikasi lambat gambar teratur tersedia memuat gambar produk memiliki item daftar item ditampilkan silakan tingkatkan aplikasi\n",
            "probability: [0.14385119]\n",
            "Review: layanan pelanggan terlambat menunggu menit saluran obrolan pelanggan internet saluran pelanggan telp menghubungi memprioritaskan keuntungan maksimal pengalaman pelanggan bayangkan memiliki pemborosan jam berkomunikasi menyelesaikan menghindari lazada layanan pelanggan buruk mencoba\n",
            "probability: [0.14385116]\n",
            "Review: pengiriman dipercaya buang berbelanja menunggu kurir pengiriman toko beli layanan pelanggan robot berbicara live chat sibuk membatalkan barang dikembalikan keuntungan keuntungannya membuang menunggu item membeli menunggu layanan lazada bagus\n",
            "probability: [0.14385119]\n",
            "Review: pesanan gagal kali pembayaran metode pembayaran mencoba menghubungi layanan pelanggan agen langsung alih alih robot respon berguna btw mencoba pemecahan disarankan copot pemasangan\n",
            "probability: [0.14385119]\n",
            "Review: kurir buruk lazada tunda kirim paket sabtu layanan pelanggan membantu komputer produk beli daerah tulis cheras area cepat perkiraan lazada mencapai\n",
            "probability: [0.14385125]\n",
            "Review: mencari item akurat aplikasi bermasalah lazada shake adil menemukannya kali penjualan lazada mendorong lintas kehilangan peluang gratis voucher sia sia butuh muncul pembeli aplikasi perbaiki sunting perbaiki sistem ulasan item menyegarkan menulis ulasan item menjengkelkan perbaiki\n",
            "probability: [0.14385128]\n",
            "Review: voucher kali check out kesalahan pikir aplikasi diskon timer menerima voucher harap tim aplikasi\n",
            "probability: [0.14385119]\n",
            "Review: aplikasi bagus berharap opsi memilih opsi pengiriman lex express diragukan layanan pengiriman terburuk pembelian melewati fasilitas logistik berbeda barang diproses pembelian tertahan fasilitas logistik obrolan layanan pelanggan berbicara robot membantu berbicara orang nyata\n",
            "probability: [0.14385125]\n",
            "Review: dipesan lazada barang dikirim seminggu terkirim barangnya rusak mencoba mengembalikannya pengembalian barang dikirim seminggu dikirim mencoba lazada menangani membantu mencoba mengirim email membantu mengirimi email acak mengakui nol\n",
            "probability: [0.14385119]\n",
            "Review: kalinya menggunakannya senang voucher klaim total pembayaran rupiah area dipilih memasukkan alamat area dipilih mencoba memasukkan alamat melewatinya harap menanggapi terima kasih\n",
            "probability: [0.14385125]\n",
            "Review: layanan purna jual buruk hotline tanggapan berbeda nyatakan pesanan dikembalikan barang terkirim terkirim mengembalikan barang melewati kebijakan penipuan\n",
            "probability: [0.14385125]\n",
            "Review: diandalkan pembelian terkirim diinformasikan terkirim membantah umpan diblokir chatbot berkeliaran\n",
            "probability: [0.14385128]\n",
            "Review: layanan pelanggan buruk privasi pelanggan membantu mintalah pelanggan menyelesaikannya pelanggan mengobrol langsung sibuk menyebabkan pelanggan menunggu tolong perbaiki layanan pelanggan terburuk tangani\n",
            "probability: [0.14385116]\n",
            "Review: bintang metode pembayarannya payah memasukkan detail berulang kali pembayaran berhasil gagal transaksi voucher potongan hilang menggunakannya membatalkan transaksi berhasil pengalaman pengguna terburuk\n",
            "probability: [0.14385119]\n",
            "Review: aplikasi bug item daftar mengklik item hilang ketik kunci menemukan tolong perbaiki\n",
            "probability: [0.14385125]\n",
            "Review: muak aplikasi kebijakan alih alih membantu menyelesaikan aktivitas akun mengumpulkan voucher koin pemberitahuan upaya menelepon melapor membantu menyelesaikan terima kasih pembelian membuang buang tenaga pengalaman menyenangkan frustrasi selamat tinggal\n",
            "probability: [0.1438514]\n",
            "Review: terinstal memiliki iklan mengganggu mengganggu iklan dilewati mengklik melewatinya aplikasi dimuat aplikasi mencopotnya membenci iklan\n",
            "probability: [0.14385125]\n",
            "Review: menerima pengembalian dana dompet menarik rekening bank dapatkan pesan kesalahan jaringan membersihkan cache berlanjut sulit agen menyelesaikan layar lazada penuh sesak sulit dinavigasi\n",
            "probability: [0.14385113]\n",
            "Review: aplikasi lambat memuat menggulir henti item gambar membutuhkan dimuat putih aplikasi\n",
            "probability: [0.14385119]\n",
            "Review: menyukai lazada kebijakan pengembaliannya buruk layanan pelanggannya tim lazada malas menunggu tim ditolak penjual mengambil paket pengembalian uang label pengembalian rusak sobek rusak menempelkannya membalas\n",
            "probability: [0.14385119]\n",
            "Review: aplikasi memiliki teknis terselesaikan aplikasi voucher bank berlaku pembelian teknis alasan penyelesaian lazada memiliki otp\n",
            "probability: [0.14385125]\n",
            "Review: terjebak memuat menampilkan layar pemuatan halaman kosong memeriksa koneksi membuka aplikasi menggulir hasil pencarian tekan kesalahan memuat klik layar kosong memuat produk muncul query voucher add item error pesan kesalahan menggulir\n",
            "probability: [0.14385119]\n",
            "Review: menyukainya agen jam kebijakan pengembalian mengganggu perusahaan pengiriman terungkap speedpost luck ppl grafiti bukti pengiriman tetangga mematikan notifikasi memberitahu lupa memeriksa item betapa linglungnya\n",
            "probability: [0.14385119]\n",
            "Review: pesanan kali dikirim unit salah mencoba menghubungi pengembalian pengembalian uang membutuhkan jam penuh berulang kali mengirim nomor pesanan mengirim gambar kirim unit salah kali berhenti balasan membutuhkan menit kali agen obrolan langsung shoppe terima kasih\n",
            "probability: [0.14385116]\n",
            "Review: barang oke barang tersedia semoga promo pengiriman buruk kurir menghubungi nomor iklan mengganggu\n",
            "probability: [0.14385128]\n",
            "Review: pengiriman lambat kurir lex terpercaya profesional mengambil kali lipat dibandingkan shopee mencari pengakuan barang kirim kali barang dikirim alamat salah aplikasi memiliki algoritme pencarian saran produk mengerikan\n",
            "probability: [0.14385113]\n",
            "Review: kehilangan rupiah benci barang hilang penjual menghubungi lazada lazada membantu antarmuka berguna mencoba pengembalian dana produk diklaim dikirim penjual penjual menghubungi lazada pengembalian dana mengirim produk lazada menanganinya terlambat mengajukan pengembalian dana pikir barangnya terlambat\n",
            "probability: [0.1438511]\n",
            "Review: suka lazada tata letaknya berantakan pengguna sulit membatalkan voucher pengiriman tsk menghemat ibonly download membeli twice necklace platform pemesanan online order support cod tolong perbaiki tata letak\n",
            "probability: [0.14385128]\n",
            "Review: aplikasi terkadang membingungkan meningkatkan layanan kurir lex pengendara kasar profesional lazada memiliki peringkat rendah shopee layanan kurir faktor utama keberhasilan perusahaan\n",
            "probability: [0.14385119]\n",
            "Review: aplikasi membutuhkan masuk melakukannya sandi valid email terdaftar mengubah sandi hilang melacak paket kehilangan daftar pengguna paket\n",
            "probability: [0.14385116]\n",
            "Review: memilih kurir kurir layanan tergantung daerah kecewa pop pengembang menyukainya mengganggu\n",
            "probability: [0.14385128]\n",
            "Review: item tab wishlist pembelian muncul penuh mengirim pesan facebook sam perwakilan menelepon melakukannya liya sisi riwayat obrolan facebook messenger percaya tanggal pengiriman\n",
            "probability: [0.14385119]\n",
            "Review: kalinya memesan aplikasi lazada memberikannya bintang menikmati aplikasi\n",
            "probability: [0.14385128]\n",
            "Review: dikirim penjual pengiriman paket memakan\n",
            "probability: [0.14385125]\n",
            "Review: iklan mengganggu memahaminya situs web langsung aplikasi aplikasi bagus berharap mengurangi ketidaknyamanan kehilangan kesabaran\n",
            "probability: [0.14385119]\n",
            "Review: pengiriman mahal pandemi\n",
            "probability: [0.14385125]\n",
            "Review: aplikasi memuat foto barang memperbarui buruk\n",
            "probability: [0.14385125]\n",
            "Review: benci aplikasi pikir memenangkan voucher ribu rupiah menginstal aplikasi menunggu voucher gratis pengumuman buang aplikasi sialan memenangkan voucher klaim menginstal aplikasi selesai menginstal voucher menang menginstal aplikasi\n",
            "probability: [0.14385119]\n",
            "Review: spam alert promos mengganggu\n",
            "probability: [0.14385128]\n",
            "Review: fitur pencarian menyebalkan hasilnya relevan akurat mengubah filter hasilnya berubah total hilang hasil frustrasi menemukan cari aplikasi shopee memiliki fitur pencarian terbuka mengganggu aplikasi acak virus terpaksa menginstal aplikasi voucher lazada\n",
            "probability: [0.14385119]\n",
            "Review: kali menerima pemberitahuan penurunan harga wishlist membawa langsung item sebutkan mengklik pemberitahuan platform mengklik membawa langsung item lazada harap perbaiki menemukan item tertipu voucher kali mengklik voucher pengepakan penanganan\n",
            "probability: [0.14385116]\n",
            "Review: puas aplikasi lazada mengizinkan orang memilih kurir mengirim parsel memiliki keberanian mengirim melebihi perkiraan tanggal kedatangan salah izinkan memilih kurir membantu paket cepat tangan\n",
            "probability: [0.14385134]\n",
            "Review: item memberanikan kategori teknologi antarmuka pengguna terkadang membingungkan voucher menarik harga mahal\n",
            "probability: [0.14385119]\n",
            "Review: membayar dompet tolong perbaiki\n",
            "probability: [0.14385125]\n",
            "Review: paket terkirim tanggal pengiriman layanan pelanggan menyebalkan shoppe mengurangi harga paket koin virtual peroleh lazada koin mengurangi harga stasiun penyortiran payah menunggu menanganinya layanan pengiriman\n",
            "probability: [0.14385119]\n",
            "Review: pengalaman aplikasinya bagus penyesalan lex layanan kurir layanannya lambat dibandingkan platform commerce semoga diperbaiki\n",
            "probability: [0.14385125]\n",
            "Review: iklan mengganggu\n",
            "probability: [0.14385125]\n",
            "Review: aplikasi lazada memesan memesan membukanya seminggu mencoba memesan memesan membayarnya online\n",
            "probability: [0.14385128]\n",
            "Review: situs bagus aplikasi invasif lazada memilih cash delivery membayar online fantastis memiliki game ponsel berhati hatilah kali bermain game iklan lazada muncul langsung dibawa aplikasi melewati tombol invasif merusak permainan menghapus aplikasi lazada situs web lazada memesan solusi\n",
            "probability: [0.14385143]\n",
            "Review: berhasil buruk sisi belanja jejalkan iklan layar terburuk mengubah ukurannya mengklik filter\n",
            "probability: [0.14385125]\n",
            "Review: harap tingkatkan pesanan pelacakan lex layanan buruk\n",
            "probability: [0.14385119]\n",
            "Review: kelebihan muatan sampah permata\n",
            "probability: [0.14385125]\n",
            "Review: paksa mengarahkan app store menginstal aplikasi nyaman menjengkelkan ditambah menutup iklan sulit tombol tutup olah memaksa menginstal aplikasi tolong ffs hapus pengalihan toko aplikasi membenci aplikasi menginginkannya\n",
            "probability: [0.14385116]\n",
            "Review: lazada berbelanja mengganggu iklan muncul browsing aplikasi putus asa memaksa aplikasi membawa titik menghapusnya menggunakannya instal ulang membutuhkannya\n",
            "probability: [0.14385116]\n",
            "Review: redmart koneksi muat ulang gunanya\n",
            "probability: [0.14385125]\n",
            "Review: ditampilkan iklan pop gerakan koneksi internetnya bagus aplikasi nuansa sistem komputer pensiun\n",
            "probability: [0.14385116]\n",
            "Review: buruk aplikasi mengundang teman kupon mengundang teman teman diskon mengundang teman teman teman mengundang teman teman\n",
            "probability: [0.14385128]\n",
            "Review: mengunduh aplikasi kali streaming ponsel membaca konten baca iklan berkedip ujung menentang iklan iklan berkedip memengaruhi mata alternatif mencopot pemasangan aplikasi harap mengubah iklan berkedip\n",
            "probability: [0.14385119]\n",
            "Review: memiliki dompet lazada uang ditarik aplikasi mengizinkan menarik uang dompet lazada membutuhkan uang\n",
            "probability: [0.14385125]\n",
            "Review: tolong perbaiki kesalahannya ballon blast kredit dompet top wort\n",
            "probability: [0.14385119]\n",
            "Review: mitra pengiriman gdex payah terlambat memperbarui kemajuan pengiriman berminggu minggu ubah\n",
            "probability: [0.14385125]\n",
            "Review: aplikasi bagus promo berlaku gratis ongkos kirim\n",
            "probability: [0.14385128]\n",
            "Review: menyalakan aplikasi menghabiskan baterai penggunaan jam latar\n",
            "probability: [0.14385125]\n",
            "Review: terima kasih puas pengembalian pengembalian uang merepotkan lbc terdekat frustrasi mengubahnya\n",
            "probability: [0.14385125]\n",
            "Review: bagus mengirimi spam iklan pilihan menonaktifkannya aplikasi melakukannya telepon pengalaman lumayan efisien\n",
            "probability: [0.14385128]\n",
            "Review: mengunduh aplikasi mei memesan poster buronan potong untungnya temukan senang menemukan kali aplikasi lazada pesanan coba tebak barang penyok kecewa pesanan kegembiraan kebahagiaan hilang penyok perhatikan\n",
            "probability: [0.14385125]\n",
            "Review: pembatalan pesanan pengembalian dana menyebalkan konfirmasi penjual membatalkan pesanan menunggu pengembalian dana terburuk menindaklanjuti penyelesaian agen ditandai terselesaikan\n",
            "probability: [0.14385119]\n",
            "Review: halaman kali mengunggah foto ulasan gangguan ulasan aplikasi lagging buruk harapkan halaman dimuat menelusuri item rendah halaman macet lakukan refresh trus scroll versi terbaru aplikasi menghabiskan uang\n",
            "probability: [0.14385116]\n",
            "Review: mengulang memasukkan detail kartu kredit inputnya\n",
            "probability: [0.9589695]\n",
            "Review: singkirkan penjual harga murah menyesatkan diiklankan harga rendah biaya pengiriman kali mahal harga menghapus penjual diiklankan barang murah berbeda produk ditampilkan aplikasi belanja online bagus situs web penipu lazada dulunya pilihan jenis penjual aplikasi tolong atasi\n",
            "probability: [0.14385113]\n",
            "Review: menyarankan aplikasi berguna nyaman benci iklan acak muncul situs web chrome sengaja mengkliknya membawa aplikasi memperkenalkan aplikasi menjengkelkan acungan jempol\n",
            "probability: [0.14385125]\n",
            "Review: aplikasi bagus aplikasi mengecewakan bintang aplikasi memperbaruinya penjual pesanan pelanggan pengiriman aplikasi diperbarui buang buang\n",
            "probability: [0.14385128]\n",
            "Review: terpaksa menginstal aplikasi mencoba produk menjauh lazada benci iklan pandangan muncul mencoba pergi antarmuka aplikasi belanjakan uang pengembangan aplikasi iklan kuat calon konsumen\n",
            "probability: [0.14385119]\n",
            "Review: mengarahkan ulang mengunduh diinstal\n",
            "probability: [0.14385125]\n",
            "Review: muncul maaf mendeteksi lintas jaringan kakak ayah browsing lazada jaringan dianggap suruh abang shopee muncul adil hmm\n",
            "probability: [0.14385125]\n",
            "Review: buruk harap sederhana iklan suka shoppee mudah\n",
            "probability: [0.14385125]\n",
            "Review: berharap lazada melibatkan perusahaan desain perancang antarmuka pengguna situs web intuitif sayangnya platform menyalin antarmuka akibatnya aspek negatifnya menekan tombol berkali kali beranda daftar menu utama tersedia klik tayang\n",
            "probability: [0.14385116]\n",
            "Review: pengiriman gratis biaya pengiriman mahal beli adil wilayah jakarta mengalami pengiriman gratis penjual lazmall layanan mengirimkan produk goresan item item bocor cacat terburuk memantau keluhan pelanggan saran semoga membaik\n",
            "probability: [0.14385119]\n",
            "Review: memesan sepatu bot selamat berbulan lazada membukanya hitam tolong perbaiki direkomendasikan\n",
            "probability: [0.14385125]\n",
            "Review: aplikasi mengizinkan pembaruan ulasan produk dibeli periode penggunaan tinjauan diselesaikan sebulan melakukannya upaya perusahaan meningkatkan pengalaman pembeli sertakan ulasan produk aliexpress\n",
            "probability: [0.14385131]\n",
            "Review: commerce memiliki kesempatan kali mengubah alamat barang dibayar lazada memilikinya admin csupport membantu ppl berbeda frustrasi ecomm oranye hijau setelahnya\n",
            "probability: [0.14385119]\n",
            "Review: harfiah memaksa aplikasi alih alih situs web spam penjualan acara langsung matikan kategori notifikasi aplikasi digabungkan android menonaktifkan notifikasi promosi kecuali ketinggalan pesanan shopee buruk toko resmi rusak\n",
            "probability: [0.14385116]\n",
            "Review: menemukan tombol umpan aplikasi meletakkannya berharap membuatnya ramah pengguna tersesat menemukan tombol disayangkan voucher pengiriman gratis terbatas pengguna koin menukarnya voucher ulasan pembelian sulit ditutup memasukkan ulasan mengirimkannya terkadang kali mogok\n",
            "probability: [0.14385119]\n",
            "Review: menampilkan iklan meluncurkan aplikasi berisi spam notifikasi default berantakan tombol intuitif aplikasi web\n",
            "probability: [0.14385125]\n",
            "Review: aplikasi ramah pengguna sulit kode voucher mencarinya google voucher pengiriman gratis menggunakannya berlaku item mengklik produk produk habis toko online menghapus produk habis\n",
            "probability: [0.14385125]\n",
            "Review: pengiriman gratis biaya pengiriman smh\n",
            "probability: [0.14385125]\n",
            "Review: berterima kasih aplikasi mengumpulkan alat\n",
            "probability: [0.9589702]\n",
            "Review: berantakan messy\n",
            "probability: [0.9589673]\n",
            "Review: memiliki pengalaman memilih mengklik beli berbeda ditampilkan mengizinkan membatalkan uang dipotong akun kejadian membeli aplikasi belanja\n",
            "probability: [0.14385125]\n",
            "Review: berbicara pengembalian uang sejenisnya pengembalian dana sulit frustrasi aplikasi uang\n",
            "probability: [0.14385125]\n",
            "Review: menginstal lazada voucher terima suka shopee voucher gratis ongkos kirim pembelian barang lazada biaya pengiriman mahal barang gila antarmuka membingungkan item dikemas dikirim pengiriman penerimaan\n",
            "probability: [0.14385113]\n",
            "Review: dompet pembayaran mengkonfirmasi penarikan lazada penipu\n",
            "probability: [0.14385125]\n",
            "Review: pilihan bahasa inggris\n",
            "probability: [0.9589721]\n",
            "Review: aplikasi terkadang tertinggal layanan kurir lazada lambat terkadang aplikasi diperbarui\n",
            "probability: [0.14385119]\n",
            "Review: proses checkout repot pilihan pembayaran dbs paylah dompet lazada opsi mengirimkan konfirmasi pembayaran opsi muncul proses pencarian merepotkan pemberitahuan poin penghargaan voucher bug navigasi halaman mengganggu pencarian tergantung halaman toko lazada lazada mencari situs font putih header putih salinan\n",
            "probability: [0.14385113]\n",
            "Review: hai lazada aplikasi menarik layanan berhenti abx pengiriman standar abx layanan berguna item dikirim pengiriman abx menelepon tanggal kedaluwarsa membatalkan pesanan pembaruan pengiriman abx delivery barang hilang kecewa layanan tolong perbaiki\n",
            "probability: [0.14385119]\n",
            "Review: promosi dll bug mengganggu suka aplikasi pemberitahuan acak memiliki pesan dibuka menghapus menandainya dibaca muncul pergi berbelanja browser\n",
            "probability: [0.14385116]\n",
            "Review: rupiah ongkos kirim dikenakan biaya\n",
            "probability: [0.14385125]\n",
            "Review: keranjang menampilkan jadikan folder fav terbaru mencari item ketuk fav mengetuk item menemukan tanggal antarmuka pembayaran online selesai membayar mengetuk tolong antarmuka membayar tunjukkan selesai maju akrena selesai membayar memaksa menutup membuka item\n",
            "probability: [0.14385116]\n",
            "Review: iklan orang orang bodoh memahami pembeli berkembang mencopot pemasangan aplikasi\n",
            "probability: [0.14385128]\n",
            "Review: pengalaman mengerikan voucher diterapkan mudah diterapkan teknisnya layanan pelanggan membutuhkan merespon bantuan berguna menyelesaikan voucher diskon ramah pengguna menangani kompleks mudah mengizinkan penulisan email bantuan bot melanjutkan bantuan manusia butuh lampiran dll\n",
            "probability: [0.14385119]\n",
            "Review: sialan lazada virus muncul kali iklan mengarahkan aplikasi situs web menjengkelkan kali menonton anime lakukan spam\n",
            "probability: [0.14385125]\n",
            "Review: menerima pemberitahuan menghapus centang\n",
            "probability: [0.14385125]\n",
            "Review: kualitas nya bagus\n",
            "probability: [0.9589698]\n",
            "Review: biaya pengiriman mahal\n",
            "probability: [0.14385128]\n",
            "Review: bagus pengirimannya banget\n",
            "probability: [0.9589715]\n",
            "Review: lazada seller suka salah barang sesuai permintaan\n",
            "probability: [0.14385128]\n",
            "Review: progres pengiriman lambat terjebak khawatir paket pecah rumah paket\n",
            "probability: [0.14385128]\n",
            "Review: menonton drama korea memuat ulang halaman iklan muncul layar diarahkan halaman aplikasi pengguna mengganggu perhatian\n",
            "probability: [0.14385119]\n",
            "Review: pengiriman lazada menyortir barang memesan paket memberikannya pengirimanl van pengiriman memperhatikan orang harapkan bel pintu bel pintu inconvenience tidur istirahat pengiriman kali sehari nyaman\n",
            "probability: [0.14385131]\n",
            "Review: pop out mengganggu sulit disingkirkan\n",
            "probability: [0.14385125]\n",
            "Review: aplikasi lambat pembaruan terbaru\n",
            "probability: [0.14385125]\n",
            "Review: memiliki aplikasinya mengklik menjelajah membutuhkan log alasan menghapusnya\n",
            "probability: [0.14385125]\n",
            "Review: iklan muncul membuka aplikasi youtube aplikasi facebook bermain game mengganggu uninstall\n",
            "probability: [0.14385119]\n",
            "Review: bagus memesan memesan suka memesannya tolong perbaiki cepat pesan\n",
            "probability: [0.14385125]\n",
            "Review: mencopot pemasangan aplikasi kali menjelajahi internet chrome iklan bodoh memaksa perangkat membuka aplikasi butuh detik menutupnya iklan berguna shopee kali\n",
            "probability: [0.14385119]\n",
            "Review: memiliki produk aman anak anak harap memiliki kontrol orang tua pilihan menyembunyikan mainan dewasa dll\n",
            "probability: [0.9589702]\n",
            "Review: alamat aplikasi berbeda masukkan menghubungi penjual versi situs web alamatnya\n",
            "probability: [0.14385125]\n",
            "Review: biaya pengiriman biaya\n",
            "probability: [0.14385125]\n",
            "Review: aplikasi bagus aplikasi terbuka paksa mengetuk salah iklan menjengkelkan\n",
            "probability: [0.14385128]\n",
            "Review: aplikasi aplikasi berantakan terorganisir aplikasinya bersih menikmati berbelanja laz tolong perbaiki\n",
            "probability: [0.14385131]\n",
            "Review: belanja nyaman pengiriman puas bayangkan pesanan celana bench pcs dikirim pcs harga mengecewakan\n",
            "probability: [0.14385125]\n",
            "Review: aplikasi pop lazada ponsel memudar\n",
            "probability: [0.14385125]\n",
            "Review: membeli barang aplikasi pengalamannya menghapusnya pembaruan terbaru gunanya memiliki pemberitahuan mengganggu menempati ponsel aneh selamat tinggal selamat jalan\n",
            "probability: [0.14385125]\n",
            "Review: sepenuhnya percaya toko online scammers penasaran mencoba memesan lazada wow scam mempercayai toko online membuang buang uang membaca ulasan barang beli positif pikir sah membaca komentar dalamnya menemukan penipuan terlambat memesan membatalkannya\n",
            "probability: [0.14385116]\n",
            "Review: sistem pencarian buruk mencari harga rendah barang murah harga pencarian mencari kunci sistem pencarian khusus menampilkan toko barang mencoba menemukan dicari pelanggan alasan halaman lihat produk toko hilang galeri toko pelanggan\n",
            "probability: [0.14385113]\n",
            "Review: aplikasi situs web buruk niaga ramah pengguna pembayaran preorder item aplikasi macet pembayaran robot membantu membingungkan membuang mencoba membayar perangkat batas membayar uang deposit\n",
            "probability: [0.14385116]\n",
            "Review: daftar lengkap memotong item masuk perangkat mengirim pesan obrolan aplikasi tanggapannya otomatis tolong perbaiki\n",
            "probability: [0.14385125]\n",
            "Review: aplikasi halaman dimuat terkadang proses pemuatan gagal pemuatan halaman habisnya isi pesan ulasan membuka penawaran notifikasi jaringan wifi membuka youtube cegukan kali membuka aplikasi lazada halaman butuh dimuat tolong perbaiki pembaruan juni lazada aplikasi buruk crash self close\n",
            "probability: [0.14385143]\n",
            "Review: kelebihan penjual mengirimkan cepat kekurangan aplikasi bermasalah memasukkannya halaman eksternal halaman berulang kali ditampilkan mencoba lambat terkadang mengubah menit pembelian butuh melanjutkan mengganggu terkadang memeriksa biaya barang digital mengatur pesanan dibayar muncul jenis iklan\n",
            "probability: [0.14385119]\n",
            "Review: iklan aplikasi lazada pop mengganggu aplikasi menekan pop melakukannya boommm aplikasi terbuka aplikasi bintang lazada sepadan sunting sebulan membaik memutuskan mencopot pemasangan aplikasi penipu figur pengguna aktif investor fyi kehilangan pelanggan semoga harimu menyenangkan\n",
            "probability: [0.14385125]\n",
            "Review: bintang lupa betapa membenci menampilkan produk membingungkan memeriksa detail jenis model dikelompokkan deskripsi shopee referensi milik shopee penggemar shopee ramah pengguna betapa mudahnya menelusuri produk halaman lakukan\n",
            "probability: [0.14385119]\n",
            "Review: aplikasi belanja online bagus memiliki ditawarkan\n",
            "probability: [0.9589727]\n",
            "Review: harga rendah item dipesan\n",
            "probability: [0.9589699]\n",
            "Review: aplikasi bagus membantu cepat mudah berbelanja\n",
            "probability: [0.95897293]\n",
            "Review: peningkatan pengembang tambahkan peringkat perusahaan kurir memiliki peringkat pembeli penjual pemisahan review perusahaan penjual kurir penjual barang asli korban ditinjau adil layanan kurir pengiriman buruk peringkat terpisah independen kurir pengiriman pengiriman meningkatkan kinerja perusahaan kurir\n",
            "probability: [0.9589669]\n",
            "Review: lazada hidup mudah pandemi berbelanja terima kasih lazada voucher promo\n",
            "probability: [0.95897275]\n",
            "Review: belanja mudah berkualitas toko butuhkan\n",
            "probability: [0.95897293]\n",
            "Review: mudah aplikasi bagus belanja online menyukai fitur aplikasi mengobrol mengajukan penjual produk aplikasi bagus\n",
            "probability: [0.9589726]\n",
            "Review: toko nyaman membeli menemukan berkali kali memesan membeli naman bagus rekanan ninja van suka scammers penjual kotak misteri mencoba membeli lazada tolong jaga platform bebas aman scammers terima kasih\n",
            "probability: [0.14385128]\n",
            "Review: pilihan item mudah menyenangkan\n",
            "probability: [0.95897305]\n",
            "Review: pengalaman buruk aplikasi penjual produk memiliki kualitas bagus syarat layanannya mudah dipahami menyarankan pengguna berhati hati beli\n",
            "probability: [0.14385128]\n",
            "Review: belanja mudah nyaman terima kasih lazada\n",
            "probability: [0.9589728]\n",
            "Review: biaya pengiriman aplikasi aplikasi belanja barang temukan sah memiliki kualitas\n",
            "probability: [0.14385128]\n",
            "Review: mudah memesan harga murah\n",
            "probability: [0.9589715]\n",
            "Review: pameran bagus ditemukan sesuai pikiran\n",
            "probability: [0.958972]\n",
            "Review: kemudahan berbelanja tolong hak memeriksa barang membayar keamanan pembeli penjual terima kasih\n",
            "probability: [0.9589664]\n",
            "Review: layanan bagus pengiriman kondisi goresan penyok terlindungi ditangani hati hati\n",
            "probability: [0.958971]\n",
            "Review: senang lazada nyaman membeli kebutuhan khusus kebutuhan bayi barang butuhkan rumah merekomendasikan aplikasi praktis merepotkan pergi mal membeli barang butuhkan lazada bagus cart check out tunggu tanggal pengiriman lihat aman pandemi\n",
            "probability: [0.9589715]\n",
            "Review: bintang produk layanan nyaman mudah membeli pesanan memiliki barang kemasan dikemas mengandalkan terima kasih\n",
            "probability: [0.9589709]\n",
            "Review: aplikasi belanja bagus harga murah\n",
            "probability: [0.9589723]\n",
            "Review: pembaruan penghitung dibaca dihapus pesan dibaca mengganggu uninstall\n",
            "probability: [0.14385125]\n",
            "Review: aplikasi lazada aplikasi belanja online terpercaya pembayaran uang tunai dompet lazada transaksi lancar layanan pelanggan produk sah harga terjangkau diskon pengiriman gratis kerumitan terkunci pertahankan lazada\n",
            "probability: [0.9589675]\n",
            "Review: mudah memiliki barang menemukan olah pikirkan\n",
            "probability: [0.9589722]\n",
            "Review: berguna mencari barang impor mudah menemukan voucher pengiriman gratis terima kasih dukungan kepuasannya\n",
            "probability: [0.9589669]\n",
            "Review: aplikasi membantu menikmati berbelanja terima kasih good bless\n",
            "probability: [0.95897263]\n",
            "Review: pengiriman kondisi\n",
            "probability: [0.95897055]\n",
            "Review: aplikasi terbaik kebutuhan aplikasi nyaman mudah diskon voucher memenangkan hadiah game suka aplikasi\n",
            "probability: [0.9589696]\n",
            "Review: aplikasi andal butuhkan sulit\n",
            "probability: [0.9589696]\n",
            "Review: mudah dipelajari produknya unik aplikasi membantu menggulir pesan konfirmasikan menunggu\n",
            "probability: [0.9589729]\n",
            "Review: terbaik belanja online diskon pengiriman kali membeli diskon\n",
            "probability: [0.9589722]\n",
            "Review: pelayanan diandalkan harga\n",
            "probability: [0.95897174]\n",
            "Review: aplikasi memesan online aplikasi temukan mal kebanyakan menemukannya murah\n",
            "probability: [0.95896614]\n",
            "Review: fantastis diandalkan kekhawatiran pembeli membantu pandemi salah alasan covid dicegah penyebarannya terima kasih kudos lazada\n",
            "probability: [0.95896906]\n",
            "Review: pengalaman manajemen layanan pelanggan terbaik memeriksa pelanggan\n",
            "probability: [0.95896643]\n",
            "Review: belanja hebat bebas repot produk bagus harga murah layanan pelanggan berdasarkan pengalaman\n",
            "probability: [0.95897263]\n",
            "Review: mudah aplikasi proses pembayaran lancar kudos\n",
            "probability: [0.9589633]\n",
            "Review: cintai aplikasi pengguna amazon rajin amerika serikat lazada pengganti indonesia\n",
            "probability: [0.14385128]\n",
            "Review: cintai aplikasi pengiriman cepat aplikasi melacak paket pembaruan rutin senang produk beli\n",
            "probability: [0.14385128]\n",
            "Review: harga super terjangkau nyaman pandemi\n",
            "probability: [0.9589727]\n",
            "Review: mudah dinavigasi pilihan pikir menjual langit untungnya langit dijual jarang butuhkan pekerjaan\n",
            "probability: [0.9589727]\n",
            "Review: menyukai aplikasi butuhkan memasak pribadi temukan menghabiskan antrean mengantarkan pesanan nyaman rumah repot menghemat tenaga diskon voucher menghemat uang terima kasih lazada kekuatan berkah menghampirimu\n",
            "probability: [0.9589689]\n",
            "Review: kalinya aplikasi lazada sulit menavigasinya voucher pengguna aplikasi lazada bagus kerja bagus\n",
            "probability: [0.14385128]\n",
            "Review: peningkatan pembaruan menyukainya toko toko pilihan voucher menguntungkan pembeli tingkatkan kepentingan pengguna menyukainya\n",
            "probability: [0.9589726]\n",
            "Review: bagus voucher diskon pengalaman aplikasi belanja sehari membeli piano mudah mudahan berguna\n",
            "probability: [0.9589715]\n",
            "Review: memesan redmart memilih item keranjang memesan check out simpan kesalahan dinyatakan kesalahan jaringan silakan coba uninstall install tolong perbaiki\n",
            "probability: [0.14385119]\n",
            "Review: peringkat bintang lazada mudah kebutuhan rumah bahan makanan pergi supermarket repot terima kasih lazada\n",
            "probability: [0.9589616]\n",
            "Review: belanja online nyaman pengiriman cepat memesan item grocery banget freebies promonya free ongkir vouchernya harga produk murah toko kelontong suka dompet lazada diskon voucher membayar tagihan promo cashback bulanan cashback pesanan suka banget aplikasi\n",
            "probability: [0.95897114]\n",
            "Review: belanja online mudah terpercaya penjual responsif poin koin menebus item\n",
            "probability: [0.14385128]\n",
            "Review: aplikasi belanja lazada aplikasi terbaik kalinya berbelanja kebutuhan keluarga membelinya khusus voucher diskon barang lazada terbaik\n",
            "probability: [0.95897114]\n",
            "Review: menyukai item mudah memesan\n",
            "probability: [0.95897174]\n",
            "Review: aplikasi membantu mudah membantu orang orang pasar berguna pengalaman bagus toko legit menjual produk berkualitas harga murah bijak menemukan toko penjual bagus penilaian gambar kuncinya salah toko belanja mudah dinavigasi penjualan potongan harga kupon voucher gratis cashback terima kasih lazada\n",
            "probability: [0.9589725]\n",
            "Review: bagus berbelanja pesanan cepat\n",
            "probability: [0.9589721]\n",
            "Review: diskon voucher pengiriman gratis nyata pengiriman gratis pengiriman gratis platform membayar biaya pengiriman voucher\n",
            "probability: [0.95896983]\n",
            "Review: mudah pilihan produk\n",
            "probability: [0.95897317]\n",
            "Review: penghemat pergi mal membeli butuhkan tambahkan keranjang tempatkan pesanan checkout produk tunggu mudah\n",
            "probability: [0.9589703]\n",
            "Review: suka aplikasi nyaman pakaian produk beli mal membelinya lazada\n",
            "probability: [0.95897186]\n",
            "Review: suka mudah dinavigasi menyediakan opsi item metode pembayaran kecewa pesanan tingkat keamanan update nyata promo penjualan direkomendasikan\n",
            "probability: [0.14385131]\n",
            "Review: mencoba berbelanja situs menerima pesan penjualnya pengiriman cepat kondisi barang pesan aman\n",
            "probability: [0.14385125]\n",
            "Review: puas barang beli teruslah memiliki klien pelanggan memesan perusahaan terima kasih lazada layanan bintang\n",
            "probability: [0.958969]\n",
            "Review: lazada memiliki antarmuka mudah dipahami menemukan penawaran terbaik klik voucher mudah dikenali diterapkan bersamaan memiliki aplikasi lazada pembelian\n",
            "probability: [0.14385128]\n",
            "Review: aplikasi senang barang harga rendah kualitasnya bagus\n",
            "probability: [0.95897174]\n",
            "Review: bagus berbelanja negeri membeli negeri berfungsi satunya terkadang pengiriman diharapkan\n",
            "probability: [0.14385125]\n",
            "Review: mudah shopee\n",
            "probability: [0.958966]\n",
            "Review: diandalkan senang aplikasi\n",
            "probability: [0.9589715]\n",
            "Review: suka mudah berbelanja kurir disana akomodatif\n",
            "probability: [0.95897275]\n",
            "Review: mudah aplikasi bagus diskon\n",
            "probability: [0.95897305]\n",
            "Review: aplikasi lancar platform andal bertanggung selesai\n",
            "probability: [0.95897245]\n",
            "Review: aplikasi nyaman ramah mudah penjualan\n",
            "probability: [0.9589721]\n",
            "Review: pengiriman cepat kondisi\n",
            "probability: [0.9589722]\n",
            "Review: bagus ramah notifikasi\n",
            "probability: [0.95896465]\n",
            "Review: suka lazada mudah berbelanja memiliki diskon harga murah ditambah pengiriman\n",
            "probability: [0.95897263]\n",
            "Review: segi kinerja diandalkan penjualan konsinyasi online toko memakan uang mengirimkan konsisten akurat dijanjikan\n",
            "probability: [0.958972]\n",
            "Review: bagus pengiriman china penjual lokal pastikan membeli periksa variasi\n",
            "probability: [0.14385125]\n",
            "Review: mudah promo harga bagus\n",
            "probability: [0.9589727]\n",
            "Review: bagus pengiriman kasih bintang packingnya aman banget thanks lazada\n",
            "probability: [0.958972]\n",
            "Review: tim customer service lazada namanya dean kecepatan pengirimannya cepat penjual peringkat membutuhkan menyaring memilih barang sesuai semoga lazada berkembang\n",
            "probability: [0.14385128]\n",
            "Review: mudah membeli lazada lazada pilihan terbaik\n",
            "probability: [0.9589712]\n",
            "Review: nyaman terjangkau membeli produk\n",
            "probability: [0.9589715]\n",
            "Review: penjual layanan online cepat terbaik ramah termurah sah\n",
            "probability: [0.14385125]\n",
            "Review: mudah membeli kebutuhan popok anak peralatan berkebun penguncian\n",
            "probability: [0.9589722]\n",
            "Review: aplikasi semoga barang dijual kualitasnya pengalaman ruang perbaikan\n",
            "probability: [0.9589701]\n",
            "Review: lazada membantu gak mall pasar kemana tinggal scroll cari dibeli pengiriman cepat pekerjaan pergi membeli butuhkan rumah kebutuhan keluarga terima kasih lazada\n",
            "probability: [0.95897007]\n",
            "Review: penawaran hebat berbelanja mudah membeli platform\n",
            "probability: [0.9589717]\n",
            "Review: aplikasi membeli barang bagus\n",
            "probability: [0.95896745]\n",
            "Review: suka antarmuka lazada app ramah pengguna mudah mencari membeli barang minimal lag bug penawaran penghematan lazada menawarkan diskon obral layanan pelanggan ramah membantu\n",
            "probability: [0.14385128]\n",
            "Review: aplikasi voucher butuhkan toko barang buka tunggu berbelanja jamin aplikasi membantu pandemi aman memesan pergi membeli kebutuhan\n",
            "probability: [0.9589693]\n",
            "Review: pengiriman diffect membatalkan\n",
            "probability: [0.9589693]\n",
            "Review: cintai aplikasi berharap fitur terkadang paket dipesan gagal terkirim\n",
            "probability: [0.95895916]\n",
            "Review: temuan bagus pilihan terjangkau ratusan pilihan pengiriman cepat\n",
            "probability: [0.9589724]\n",
            "Review: suka harga terendah pengiriman promonya bagus\n",
            "probability: [0.95897186]\n",
            "Review: barangnya bagus puas pesan dapatkan terima kasih\n",
            "probability: [0.14385128]\n",
            "Review: membantu pandemi orang diizinkan baiknya memiliki aplikasi membantu berbelanja berbelanja online\n",
            "probability: [0.95896924]\n",
            "Review: aplikasi membantu menikmati berbelanja\n",
            "probability: [0.95897275]\n",
            "Review: situs web harapan login berulang kali keranjang belanja aplikasi seluler aplikasi ramah pengguna\n",
            "probability: [0.14385125]\n",
            "Review: bagus bagus repot usaha berbelanja\n",
            "probability: [0.9589721]\n",
            "Review: pesanan lazada dipacking barangnya bagus\n",
            "probability: [0.9589627]\n",
            "Review: transaksi mengalir lancar efisien suka aplikasi\n",
            "probability: [0.958972]\n",
            "Review: transaksi pengiriman cepat mudah produk terjangkau berkualitas suka lazada keluarga menantu laki laki cucu perempuan lazada kebutuhan pribadi dasar pengiriman lazada rumah menyukai produk lazada orang dunia menyukai lazada kekuatan tuhan memberkati lazada menghargai layanan cinta perhatian pelanggan setia\n",
            "probability: [0.95897084]\n",
            "Review: menakjubkan pengalaman berbelanja membuatnya mudah nyaman khusus pandemi tinggal rumah scroll tap swipe\n",
            "probability: [0.9589724]\n",
            "Review: suka lazada mengirimkan barang secepat harapkan\n",
            "probability: [0.9589713]\n",
            "Review: bagus suka barang terpenting harga diskon kali membeli kotak misteri lazada semoga keberuntungan kelahiran salut\n",
            "probability: [0.958971]\n",
            "Review: proses transaksi mudah cari\n",
            "probability: [0.95895016]\n",
            "Review: suka berbelanja aplikasi voucher pengiriman gratis\n",
            "probability: [0.9589697]\n",
            "Review: pengiriman cepat shopee app membantu menyenangkan dijelajahi menilai penjual menerima pesanan lancar\n",
            "probability: [0.95896685]\n",
            "Review: aplikasi berguna aplikasi berbelanja\n",
            "probability: [0.9589689]\n",
            "Review: mudah gratisan\n",
            "probability: [0.95897204]\n",
            "Review: senang aplikasi memesan menghabiskan tenaga membeli butuhkan menit mudah ribet\n",
            "probability: [0.9589628]\n",
            "Review: mudah bagus nyaman\n",
            "probability: [0.9589727]\n",
            "Review: mudah nyaman terima kasih lazada voucher salah satunya menikmati voucher aplikasi berfungsi gangguan\n",
            "probability: [0.9589702]\n",
            "Review: belanja online mudah\n",
            "probability: [0.9589734]\n",
            "Review: produk harga terjangakau bebas repot senang aplikasi\n",
            "probability: [0.9589726]\n",
            "Review: lazada aplikasi belanja online terbaik layanan pelanggan agen responsif berpengetahuan luas lazada satunya aplikasi belanja online grup pengguna lazada facebook rekan rekan lazada berinteraksi pengguna penawaran promosi bagus lazada terbaik hadiah promo voucher aplikasi ramah pengguna mudah\n",
            "probability: [0.9589685]\n",
            "Review: mudah voucher mengurangi barang pengiriman gratis free\n",
            "probability: [0.14385125]\n",
            "Review: pengiriman cepat kurir sopan jenis belanja termudah diskon nyaman berbelanja\n",
            "probability: [0.95897233]\n",
            "Review: aplikasi bagus memesan barang aplikasi\n",
            "probability: [0.9589709]\n",
            "Review: senang mudah platform terorganisir\n",
            "probability: [0.95897275]\n",
            "Review: suka aplikasi membantu pandemi orang membeli minggu memesan kecewa\n",
            "probability: [0.9589722]\n",
            "Review: mudah nomor telepon email akun suka pembayaran online beli dibayar uang tunai pengiriman pintu\n",
            "probability: [0.9589719]\n",
            "Review: menikmati berbelanja lazada layanan pelanggan pembelian produk dikirimkan memiliki informasi langsung barang beli jaminan item\n",
            "probability: [0.9589652]\n",
            "Review: produknya bagus efektif memperkuat sistem kekebalan tubuh\n",
            "probability: [0.9589669]\n",
            "Review: puas pengirimannya merepotkan\n",
            "probability: [0.9589704]\n",
            "Review: pengiriman cepat memanfaatkan pengiriman gratis bagus mengalami barang rusak\n",
            "probability: [0.958972]\n",
            "Review: aplikasi diragukan diskon gila gilaan\n",
            "probability: [0.9589713]\n",
            "Review: nyaman mudah berbelanja\n",
            "probability: [0.95897293]\n",
            "Review: pengiriman cepat mudah\n",
            "probability: [0.958973]\n",
            "Review: aplikasi penjual jujur berbisnis membeli tirai biaya pcs mengirim murah biaya pcs\n",
            "probability: [0.14385119]\n",
            "Review: aplikasi bagus terpercaya berbelanja\n",
            "probability: [0.958972]\n",
            "Review: ramah pengguna mudah pengalaman platform bagus terima kasih\n",
            "probability: [0.9589726]\n",
            "Review: barang tersedia barang dapur ruangan\n",
            "probability: [0.9589709]\n",
            "Review: aplikasi bagus ramah pengguna mudah\n",
            "probability: [0.9589722]\n",
            "Review: keranjang barang beli beres tolong tolong tolong perbaiki terima kasih\n",
            "probability: [0.14385125]\n",
            "Review: diskon voucher platform bagus\n",
            "probability: [0.9589709]\n",
            "Review: terkadang menawarkan pengiriman gratis pengeluaran minimum\n",
            "probability: [0.95896935]\n",
            "Review: transaksi cepat kurir mudah didekati\n",
            "probability: [0.95897305]\n",
            "Review: terbaik belanja online lazada terima kasih pelanggan voucher kupon salah aplikasi favorit\n",
            "probability: [0.95897025]\n",
            "Review: pengiriman terlambat dibutuhkan ukuran memori telepon ukuran aplikasi terbesar ponsel membersihkan cache melacak pesanan salah terlambat pesanan jam menerimanya pemberitahuan pesanan\n",
            "probability: [0.14385131]\n",
            "Review: mudah dinavigasi diandalkan produk mudah dikembalikan pengiriman cepat aman\n",
            "probability: [0.9589727]\n",
            "Review: platform circuit breaker produk bagus berbulan hati hati produk asli far good terima kasih layanan\n",
            "probability: [0.9589714]\n",
            "Review: memiliki pengalaman hebat aplikasi pengiriman cepat terpercaya petugas pengiriman ramah senior penyandang disabilitas aplikasi membantu produk dipilih\n",
            "probability: [0.95897055]\n",
            "Review: frustrasi pengiriman puas layanan lazada\n",
            "probability: [0.14385125]\n",
            "Review: aplikasi berguna membantu orang orang orang orang pergi pasar\n",
            "probability: [0.95897174]\n",
            "Review: aplikasi bagus mudah layanan pelanggan efisien salah platform belanja online terbaik\n",
            "probability: [0.95897114]\n",
            "Review: suka iklan cepat\n",
            "probability: [0.9589657]\n",
            "Review: mudah promosi ongkos kirim barang terjangkau berterima kasih lazada membantu pergi mal pasar\n",
            "probability: [0.9589704]\n",
            "Review: pengalaman mudah membeli\n",
            "probability: [0.9589727]\n",
            "Review: super cepat mudah memesan\n",
            "probability: [0.95897347]\n",
            "Review: suka aplikasi pembaruan pikir bug program terkadang memuat ulang menyegarkan layar melompat harapan memperbaikinya\n",
            "probability: [0.14385128]\n",
            "Review: bagus shopee berantakan\n",
            "probability: [0.14385128]\n",
            "Review: pelayanan bagus harga terjangkau\n",
            "probability: [0.9589721]\n",
            "Review: suka upaya kurir mengirimkan barang pintu repot khawatir\n",
            "probability: [0.14385125]\n",
            "Review: pengiriman bagus harga wajar barang berkualitas\n",
            "probability: [0.9589708]\n",
            "Review: terkadang frustrasi barang salah dikirim pemasok senang layanan pengiriman menghormati menyenangkan pelanggan\n",
            "probability: [0.14385128]\n",
            "Review: aplikasi bagus berhati hatilah toko penjual periksa ulasan memesan\n",
            "probability: [0.9589653]\n",
            "Review: cepat packing bagus selamat\n",
            "probability: [0.9589727]\n",
            "Review: puas pengiriman cepat packing rapi\n",
            "probability: [0.95897293]\n",
            "Review: lazada terbaik menikmati berbelanja lazada penawaran hebat gratis senang voucher membeli kebutuhan diskon terima kasih aplikasi suka\n",
            "probability: [0.9589707]\n",
            "Review: memesan lazada dikirim kondisi pengiriman cepat berharap tanggal pengiriman harapkan\n",
            "probability: [0.9589535]\n",
            "Review: aplikasi bagus berbelanja butuhkan penjual memiliki hati produk suka aplikasi belanja\n",
            "probability: [0.958971]\n",
            "Review: senang kualitas harapkan pengiriman cepat prob ketentuan pesanan rendah pesanan repeat order\n",
            "probability: [0.9589714]\n",
            "Review: mudah nyaman senang lazada dapatkan gratis ongkos kirim voucher cintai aplikasi\n",
            "probability: [0.95897204]\n",
            "Review: cepat nyaman belanja mudah kekuatan penawaran hebat gratis\n",
            "probability: [0.9589733]\n"
          ]
        }
      ]
    },
    {
      "cell_type": "code",
      "source": [
        "pickle.dump(model, open('sentiment.model','wb'))"
      ],
      "metadata": {
        "colab": {
          "base_uri": "https://localhost:8080/"
        },
        "id": "9ruxXKrFVi2n",
        "outputId": "0e24af3e-60a3-4fb3-b02d-6e3fc7aef769"
      },
      "execution_count": null,
      "outputs": [
        {
          "output_type": "stream",
          "name": "stdout",
          "text": [
            "INFO:tensorflow:Assets written to: ram://8bfd8b61-dd2d-491f-84fa-e34a19cbbb01/assets\n"
          ]
        },
        {
          "output_type": "stream",
          "name": "stderr",
          "text": [
            "WARNING:absl:<keras.layers.recurrent.LSTMCell object at 0x7f4e21713b90> has the same name 'LSTMCell' as a built-in Keras object. Consider renaming <class 'keras.layers.recurrent.LSTMCell'> to avoid naming conflicts when loading with `tf.keras.models.load_model`. If renaming is not possible, pass the object in the `custom_objects` parameter of the load function.\n"
          ]
        }
      ]
    },
    {
      "cell_type": "code",
      "source": [
        "import pickle"
      ],
      "metadata": {
        "id": "3KLACxm5VqOc"
      },
      "execution_count": null,
      "outputs": []
    },
    {
      "cell_type": "code",
      "source": [
        ""
      ],
      "metadata": {
        "id": "Y87JQohCMo8N"
      },
      "execution_count": null,
      "outputs": []
    },
    {
      "cell_type": "code",
      "source": [
        "listdata = data['ulasan'].values.astype('U')"
      ],
      "metadata": {
        "id": "DP-UcPIaSUmc"
      },
      "execution_count": null,
      "outputs": []
    }
  ]
}